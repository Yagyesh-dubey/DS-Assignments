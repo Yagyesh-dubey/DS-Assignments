{
 "cells": [
  {
   "cell_type": "code",
   "execution_count": 4,
   "id": "4f429b3d-74c7-4df1-92aa-23495dba85ef",
   "metadata": {},
   "outputs": [
    {
     "data": {
      "text/plain": [
       "[1, 3, 5, 7, 9, 11, 13, 15, 17, 19, 21, 23, 25]"
      ]
     },
     "execution_count": 4,
     "metadata": {},
     "output_type": "execute_result"
    }
   ],
   "source": [
    "# 1st- \n",
    "  #--> 'def' keyword is used to create functions.\n",
    "def odd():\n",
    "    l=[]\n",
    "    for i in range(0,26):\n",
    "        if(i%2==1):\n",
    "            l.append(i)\n",
    "    return l\n",
    "\n",
    "odd()"
   ]
  },
  {
   "cell_type": "code",
   "execution_count": 14,
   "id": "17b8ffd1-d277-4d3d-8dd3-378f61b8bf9a",
   "metadata": {},
   "outputs": [
    {
     "name": "stdout",
     "output_type": "stream",
     "text": [
      "Hello World!\n",
      "\n",
      "name: John\n",
      "age: 20\n",
      "major: Computer Science\n"
     ]
    }
   ],
   "source": [
    "# 2nd- \n",
    "\n",
    "  # *args and **kwargs are used to pass a variable number of arguments to a function\n",
    "    \n",
    "# *args example -\n",
    "\n",
    "def concatenate_strings(*args):\n",
    "    result = \"\"\n",
    "    for arg in args:\n",
    "        result += arg\n",
    "    return result\n",
    "\n",
    "print(concatenate_strings(\"Hello\", \" \", \"World\", \"!\"))\n",
    "\n",
    "print()\n",
    "\n",
    "# **args example -\n",
    "\n",
    "def print_student_info(**kwargs):\n",
    "    for key, value in kwargs.items():\n",
    "        print(f\"{key}: {value}\")\n",
    "\n",
    "print_student_info(name=\"John\", age=20, major=\"Computer Science\")\n"
   ]
  },
  {
   "cell_type": "code",
   "execution_count": 15,
   "id": "35e241bd-2b66-47d3-87ec-67f2a06a4ce0",
   "metadata": {},
   "outputs": [
    {
     "name": "stdout",
     "output_type": "stream",
     "text": [
      "2\n",
      "4\n",
      "6\n",
      "8\n",
      "10\n"
     ]
    }
   ],
   "source": [
    "# 3rd-\n",
    "  # -->an iterator is an object that allows you to traverse through a collection of elements one by one. It \n",
    "   # provides a way to access the elements of a container without exposing its underlying implementation\n",
    "# --> \"iter\" keyword is used to make an iterable object as iterator\n",
    "\n",
    "l=[2, 4, 6, 8, 10, 12, 14,16, 18, 20]\n",
    "\n",
    "a=iter(l)\n",
    "\n",
    "for i in range(5):\n",
    "    print(next(a))"
   ]
  },
  {
   "cell_type": "code",
   "execution_count": 17,
   "id": "91410acd-5828-42a8-bcef-cb24788dc927",
   "metadata": {},
   "outputs": [
    {
     "name": "stdout",
     "output_type": "stream",
     "text": [
      "0\n",
      "2\n",
      "4\n",
      "6\n",
      "8\n"
     ]
    }
   ],
   "source": [
    "# 4th-\n",
    " #-->  a generator function is a special type of function that generates a sequence of values, allowing you to iterate over them one at a time.\n",
    "  #  The yield keyword is used in a generator function to define the points at which the function should pause and return a value to the caller. When a generator function is called, it returns a generator object.\n",
    "\n",
    "def even_numbers(n):\n",
    "    for i in range(n):\n",
    "        if i % 2 == 0:\n",
    "            yield i\n",
    "\n",
    "# Create a generator object\n",
    "generator = even_numbers(10)\n",
    "\n",
    "# Iterate and print the even numbers\n",
    "for num in generator:\n",
    "    print(num)"
   ]
  },
  {
   "cell_type": "code",
   "execution_count": 25,
   "id": "906e8b8d-6c1a-4b5e-ba5d-c29e5e3e10fc",
   "metadata": {},
   "outputs": [
    {
     "name": "stdout",
     "output_type": "stream",
     "text": [
      "1\n",
      "2\n",
      "3\n",
      "5\n",
      "7\n",
      "11\n",
      "13\n",
      "17\n",
      "19\n",
      "23\n",
      "29\n",
      "31\n",
      "37\n",
      "41\n",
      "43\n",
      "47\n",
      "53\n",
      "59\n",
      "61\n",
      "67\n"
     ]
    }
   ],
   "source": [
    "# 5th-\n",
    "def prime_numbers():\n",
    "    for i in range(1000):\n",
    "        if(i==2 or i==3 or i==5 or i==7):\n",
    "            yield i\n",
    "        if(i%2!=0 and i%3!=0 and i%5!=0 and i%7!=0):\n",
    "            yield i\n",
    "        \n",
    "        \n",
    "iterator =iter(prime_numbers())\n",
    "\n",
    "for i in range(20):\n",
    "    print(next(iterator))"
   ]
  },
  {
   "cell_type": "code",
   "execution_count": null,
   "id": "99d8d8d6-6c35-4010-ac83-c22a5253f9d6",
   "metadata": {},
   "outputs": [],
   "source": [
    "# 6th-\n",
    "a, b = 0, 1\n",
    "\n",
    "n = 0\n",
    "while n != 20:\n",
    "    print(a)\n",
    "    a, b = b, a + b\n",
    "    n += 1\n"
   ]
  },
  {
   "cell_type": "code",
   "execution_count": null,
   "id": "27bb9483-2792-4d51-9325-0a796dc83a89",
   "metadata": {},
   "outputs": [],
   "source": [
    "# 7th-\n",
    "s=\"pwskills\"\n",
    "\n",
    "itr=iter(s)\n",
    "\n",
    "print(list(itr))"
   ]
  },
  {
   "cell_type": "code",
   "execution_count": null,
   "id": "b23e53d1-72c5-4af1-b240-446fc1644fc3",
   "metadata": {},
   "outputs": [],
   "source": [
    "# 8th-\n",
    "l=int(input())\n",
    "n=l\n",
    "m=0\n",
    "\n",
    "while(l!=0):\n",
    "    m=10*m+(l%10)\n",
    "    l=l//10\n",
    "\n",
    "if(m==n):\n",
    "    print(\"yes\")\n",
    "else:\n",
    "    print(\"no\")"
   ]
  },
  {
   "cell_type": "code",
   "execution_count": null,
   "id": "bda13d6c-26d2-427e-ad63-761e920b9da1",
   "metadata": {},
   "outputs": [],
   "source": [
    "# 9th-\n",
    "number=[num for num in range(1,101)]\n",
    "print(number)\n",
    "\n",
    "odd_numbers=[num for num in number if num%2==1]\n",
    "print(odd_numbers)\n"
   ]
  },
  {
   "cell_type": "code",
   "execution_count": null,
   "id": "22aaed9e-eeea-4d2d-97c7-20c08e064704",
   "metadata": {},
   "outputs": [],
   "source": []
  }
 ],
 "metadata": {
  "kernelspec": {
   "display_name": "Python 3 (ipykernel)",
   "language": "python",
   "name": "python3"
  },
  "language_info": {
   "codemirror_mode": {
    "name": "ipython",
    "version": 3
   },
   "file_extension": ".py",
   "mimetype": "text/x-python",
   "name": "python",
   "nbconvert_exporter": "python",
   "pygments_lexer": "ipython3",
   "version": "3.10.8"
  }
 },
 "nbformat": 4,
 "nbformat_minor": 5
}
