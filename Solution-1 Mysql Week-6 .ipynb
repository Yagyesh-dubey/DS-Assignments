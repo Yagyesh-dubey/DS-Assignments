{
 "cells": [
  {
   "cell_type": "code",
   "execution_count": 1,
   "id": "19f54f97-3e66-4e13-9908-fe4702b1aad5",
   "metadata": {},
   "outputs": [
    {
     "data": {
      "text/plain": [
       "' A database is a structured collection of data that allows for efficient storage, retrieval, and management of \\ninformation. It provides a centralized approach to handle large amounts of data.\\n\\nSQL databases are based on a relational model and use SQL as the standard query language. They enforce a fixed \\nschema, provide ACID transactions, and are vertically scalable.\\n\\nNoSQL databases, on the other hand, offer flexibility in data organization, allowing for schema-less or flexible \\nschemas. They may have their own query languages, sacrifice some ACID properties for performance, and are designed \\nfor horizontal scalability.\\n\\nThe choice between SQL and NoSQL databases depends on factors like data nature, scalability needs, flexibility \\nrequirements, and query complexity.'"
      ]
     },
     "execution_count": 1,
     "metadata": {},
     "output_type": "execute_result"
    }
   ],
   "source": [
    "# 1st-\n",
    "''' A database is a structured collection of data that allows for efficient storage, retrieval, and management of \n",
    "information. It provides a centralized approach to handle large amounts of data.\n",
    "\n",
    "SQL databases are based on a relational model and use SQL as the standard query language. They enforce a fixed \n",
    "schema, provide ACID transactions, and are vertically scalable.\n",
    "\n",
    "NoSQL databases, on the other hand, offer flexibility in data organization, allowing for schema-less or flexible \n",
    "schemas. They may have their own query languages, sacrifice some ACID properties for performance, and are designed \n",
    "for horizontal scalability.\n",
    "\n",
    "The choice between SQL and NoSQL databases depends on factors like data nature, scalability needs, flexibility \n",
    "requirements, and query complexity.'''"
   ]
  },
  {
   "cell_type": "code",
   "execution_count": 2,
   "id": "3e083efa-a1a3-4c0a-87e7-308967689af8",
   "metadata": {},
   "outputs": [
    {
     "data": {
      "text/plain": [
       "' DDL stands for Data Definition Language. It is a subset of SQL (Structured Query Language) that is used to \\ndefine and manage the structure of a database. DDL statements are responsible for creating, altering, and deleting \\ndatabase objects such as tables, views, indexes, and constraints.\\n\\nHere\\'s an explanation of the commonly used DDL statements with examples:\\n\\nCREATE:\\nThe CREATE statement is used to create new database objects, such as tables, views, indexes, or procedures. It \\nspecifies the object\\'s name, structure, and other properties.\\nExample:\\nCREATE TABLE Employees (\\n    EmployeeID INT PRIMARY KEY,\\n    FirstName VARCHAR(50),\\n    LastName VARCHAR(50),\\n    Age INT\\n);\\n\\nIn this example, the CREATE TABLE statement creates a new table called \"Employees\" with columns for EmployeeID, \\nFirstName, LastName, and Age.\\n\\nDROP:\\nThe DROP statement is used to remove an existing database object, such as a table, view, or index, from the \\ndatabase.\\nExample:\\n\\nsql\\nCopy code\\nDROP TABLE Employees;\\nIn this example, the DROP TABLE statement removes the table called \"Employees\" from the database, along with all \\nits associated data and constraints.\\n\\nALTER:\\nThe ALTER statement is used to modify the structure of an existing database object, such as a table. It allows you\\nto add, modify, or delete columns, constraints, or other properties of the object.\\nExample:\\n\\nsql\\nCopy code\\nALTER TABLE Employees\\nADD COLUMN Salary DECIMAL(10, 2);\\nIn this example, the ALTER TABLE statement adds a new column called \"Salary\" to the \"Employees\" table, with a data\\ntype of DECIMAL(10, 2).\\n\\nTRUNCATE:\\nThe TRUNCATE statement is used to remove all data from a table, but the table structure remains intact. It is \\nfaster than deleting all rows using the DELETE statement and is commonly used when you want to delete all records \\nfrom a table.\\nExample:\\n\\nsql\\nCopy code\\nTRUNCATE TABLE Employees;\\nIn this example, the TRUNCATE TABLE statement removes all records from the \"Employees\" table, but the table \\nstructure and any associated constraints remain unchanged.'"
      ]
     },
     "execution_count": 2,
     "metadata": {},
     "output_type": "execute_result"
    }
   ],
   "source": [
    "# 2nd-\n",
    "''' DDL stands for Data Definition Language. It is a subset of SQL (Structured Query Language) that is used to \n",
    "define and manage the structure of a database. DDL statements are responsible for creating, altering, and deleting \n",
    "database objects such as tables, views, indexes, and constraints.\n",
    "\n",
    "Here's an explanation of the commonly used DDL statements with examples:\n",
    "\n",
    "CREATE:\n",
    "The CREATE statement is used to create new database objects, such as tables, views, indexes, or procedures. It \n",
    "specifies the object's name, structure, and other properties.\n",
    "Example:\n",
    "CREATE TABLE Employees (\n",
    "    EmployeeID INT PRIMARY KEY,\n",
    "    FirstName VARCHAR(50),\n",
    "    LastName VARCHAR(50),\n",
    "    Age INT\n",
    ");\n",
    "\n",
    "In this example, the CREATE TABLE statement creates a new table called \"Employees\" with columns for EmployeeID, \n",
    "FirstName, LastName, and Age.\n",
    "\n",
    "DROP:\n",
    "The DROP statement is used to remove an existing database object, such as a table, view, or index, from the \n",
    "database.\n",
    "Example:\n",
    "\n",
    "\n",
    "DROP TABLE Employees;\n",
    "In this example, the DROP TABLE statement removes the table called \"Employees\" from the database, along with all \n",
    "its associated data and constraints.\n",
    "\n",
    "ALTER:\n",
    "The ALTER statement is used to modify the structure of an existing database object, such as a table. It allows you\n",
    "to add, modify, or delete columns, constraints, or other properties of the object.\n",
    "Example:\n",
    "\n",
    "\n",
    "ALTER TABLE Employees\n",
    "ADD COLUMN Salary DECIMAL(10, 2);\n",
    "In this example, the ALTER TABLE statement adds a new column called \"Salary\" to the \"Employees\" table, with a data\n",
    "type of DECIMAL(10, 2).\n",
    "\n",
    "TRUNCATE:\n",
    "The TRUNCATE statement is used to remove all data from a table, but the table structure remains intact. It is \n",
    "faster than deleting all rows using the DELETE statement and is commonly used when you want to delete all records \n",
    "from a table.\n",
    "Example:\n",
    "\n",
    "\n",
    "TRUNCATE TABLE Employees;\n",
    "In this example, the TRUNCATE TABLE statement removes all records from the \"Employees\" table, but the table \n",
    "structure and any associated constraints remain unchanged.'''\n",
    "\n"
   ]
  },
  {
   "cell_type": "code",
   "execution_count": 3,
   "id": "e56c1419-9b6e-4e65-a127-ff73728fc7d4",
   "metadata": {},
   "outputs": [
    {
     "data": {
      "text/plain": [
       "' DML stands for Data Manipulation Language. It is a subset of SQL (Structured Query Language) used to interact\\nwith the data stored in a database. DML statements are responsible for inserting, updating, and deleting data \\nwithin database tables.\\n\\nLet\\'s explore the commonly used DML statements with examples:\\n\\nINSERT:\\nThe INSERT statement is used to add new rows of data into a table.\\nExample:\\n\\n\\nINSERT INTO Employees (EmployeeID, FirstName, LastName, Age)\\nVALUES (1, \\'John\\', \\'Doe\\', 30);\\nIn this example, the INSERT INTO statement adds a new row to the \"Employees\" table with values for the columns \\nEmployeeID, FirstName, LastName, and Age.\\n\\nUPDATE:\\nThe UPDATE statement is used to modify existing data within a table.\\nExample:\\n\\n\\nUPDATE Employees\\nSET Age = 31\\nWHERE EmployeeID = 1;\\nIn this example, the UPDATE statement changes the value of the \"Age\" column to 31 for the row where EmployeeID is \\n1 in the \"Employees\" table.\\n\\nDELETE:\\nThe DELETE statement is used to remove one or more rows from a table.\\nExample:\\n\\n\\nDELETE FROM Employees\\nWHERE EmployeeID = 1;\\nIn this example, the DELETE FROM statement removes the row where EmployeeID is 1 from the \"Employees\" table.'"
      ]
     },
     "execution_count": 3,
     "metadata": {},
     "output_type": "execute_result"
    }
   ],
   "source": [
    "# 3rd-\n",
    "''' DML stands for Data Manipulation Language. It is a subset of SQL (Structured Query Language) used to interact\n",
    "with the data stored in a database. DML statements are responsible for inserting, updating, and deleting data \n",
    "within database tables.\n",
    "\n",
    "Let's explore the commonly used DML statements with examples:\n",
    "\n",
    "INSERT:\n",
    "The INSERT statement is used to add new rows of data into a table.\n",
    "Example:\n",
    "\n",
    "\n",
    "INSERT INTO Employees (EmployeeID, FirstName, LastName, Age)\n",
    "VALUES (1, 'John', 'Doe', 30);\n",
    "In this example, the INSERT INTO statement adds a new row to the \"Employees\" table with values for the columns \n",
    "EmployeeID, FirstName, LastName, and Age.\n",
    "\n",
    "UPDATE:\n",
    "The UPDATE statement is used to modify existing data within a table.\n",
    "Example:\n",
    "\n",
    "\n",
    "UPDATE Employees\n",
    "SET Age = 31\n",
    "WHERE EmployeeID = 1;\n",
    "In this example, the UPDATE statement changes the value of the \"Age\" column to 31 for the row where EmployeeID is \n",
    "1 in the \"Employees\" table.\n",
    "\n",
    "DELETE:\n",
    "The DELETE statement is used to remove one or more rows from a table.\n",
    "Example:\n",
    "\n",
    "\n",
    "DELETE FROM Employees\n",
    "WHERE EmployeeID = 1;\n",
    "In this example, the DELETE FROM statement removes the row where EmployeeID is 1 from the \"Employees\" table.'''"
   ]
  },
  {
   "cell_type": "code",
   "execution_count": 4,
   "id": "48528e99-0d09-4196-838c-35e0af11dfa0",
   "metadata": {},
   "outputs": [
    {
     "data": {
      "text/plain": [
       "' DQL stands for Data Query Language. It is a subset of SQL (Structured Query Language) used to retrieve data \\nfrom a database. DQL statements are primarily focused on querying and retrieving information from database tables.\\n\\nLet\\'s explore the most commonly used DQL statement, SELECT, along with an example:\\n\\nSELECT:\\nThe SELECT statement is used to retrieve data from one or more tables in a database. It allows you to specify the \\ncolumns you want to retrieve, apply filters, sort the results, and perform various other operations.\\n\\nExample:\\n\\nSELECT FirstName, LastName, Age\\nFROM Employees\\nWHERE Age > 30;\\n\\nIn this example, the SELECT statement retrieves data from the \"Employees\" table. It specifies that the columns \\nFirstName, LastName, and Age should be included in the result. The WHERE clause filters the results to only include\\nrows where the Age is greater than 30.\\n\\nThe result of the SELECT statement will be a result set, which is a set of rows that match the specified criteria.\\nEach row in the result set represents a record or a combination of records from the selected table(s) that satisfy \\nthe conditions specified in the query.'"
      ]
     },
     "execution_count": 4,
     "metadata": {},
     "output_type": "execute_result"
    }
   ],
   "source": [
    "# 4th-\n",
    "''' DQL stands for Data Query Language. It is a subset of SQL (Structured Query Language) used to retrieve data \n",
    "from a database. DQL statements are primarily focused on querying and retrieving information from database tables.\n",
    "\n",
    "Let's explore the most commonly used DQL statement, SELECT, along with an example:\n",
    "\n",
    "SELECT:\n",
    "The SELECT statement is used to retrieve data from one or more tables in a database. It allows you to specify the \n",
    "columns you want to retrieve, apply filters, sort the results, and perform various other operations.\n",
    "\n",
    "Example:\n",
    "\n",
    "SELECT FirstName, LastName, Age\n",
    "FROM Employees\n",
    "WHERE Age > 30;\n",
    "\n",
    "In this example, the SELECT statement retrieves data from the \"Employees\" table. It specifies that the columns \n",
    "FirstName, LastName, and Age should be included in the result. The WHERE clause filters the results to only include\n",
    "rows where the Age is greater than 30.\n",
    "\n",
    "The result of the SELECT statement will be a result set, which is a set of rows that match the specified criteria.\n",
    "Each row in the result set represents a record or a combination of records from the selected table(s) that satisfy \n",
    "the conditions specified in the query.'''"
   ]
  },
  {
   "cell_type": "code",
   "execution_count": 5,
   "id": "6f354312-5189-4c11-b032-dde6f7ac4e2f",
   "metadata": {},
   "outputs": [
    {
     "data": {
      "text/plain": [
       "' Primary Key: A primary key is a unique identifier for each row in a table. It ensures data integrity and \\nconsistency by enforcing uniqueness and non-nullability.\\n\\nForeign Key: A foreign key establishes a relationship between two tables based on a common column. It references \\nthe primary key of another table and maintains referential integrity.\\n\\nPrimary keys uniquely identify rows, while foreign keys create relationships between tables.'"
      ]
     },
     "execution_count": 5,
     "metadata": {},
     "output_type": "execute_result"
    }
   ],
   "source": [
    "# 5th-\n",
    "''' Primary Key: A primary key is a unique identifier for each row in a table. It ensures data integrity and \n",
    "consistency by enforcing uniqueness and non-nullability.\n",
    "\n",
    "Foreign Key: A foreign key establishes a relationship between two tables based on a common column. It references \n",
    "the primary key of another table and maintains referential integrity.\n",
    "\n",
    "Primary keys uniquely identify rows, while foreign keys create relationships between tables.'''"
   ]
  },
  {
   "cell_type": "code",
   "execution_count": 8,
   "id": "8b24a89d-3432-4d64-b8fd-fdbf6c655f75",
   "metadata": {},
   "outputs": [
    {
     "data": {
      "text/plain": [
       "'\\nimport mysql.connector\\n\\n# Establishing the connection\\nmydb = mysql.connector.connect(\\n    host=\"localhost\",\\n    user=\"yourusername\",\\n    password=\"yourpassword\",\\n    database=\"yourdatabase\"\\n)\\n\\n# Creating a cursor object\\ncursor = mydb.cursor()\\n\\n# Executing a SQL query\\ncursor.execute(\"SELECT * FROM yourtable\")\\n\\n# Fetching the results\\nresults = cursor.fetchall()\\n\\n# Printing the results\\nfor row in results:\\n    print(row)\\n\\n# Closing the cursor and connection\\ncursor.close()\\nmydb.close()\\n'"
      ]
     },
     "execution_count": 8,
     "metadata": {},
     "output_type": "execute_result"
    }
   ],
   "source": [
    "# 6th-\n",
    "'''\n",
    "import mysql.connector\n",
    "\n",
    "# Establishing the connection\n",
    "mydb = mysql.connector.connect(\n",
    "    host=\"localhost\",\n",
    "    user=\"yourusername\",\n",
    "    password=\"yourpassword\",\n",
    "    database=\"yourdatabase\"\n",
    ")\n",
    "\n",
    "# Creating a cursor object\n",
    "cursor = mydb.cursor()\n",
    "\n",
    "# Executing a SQL query\n",
    "cursor.execute(\"SELECT * FROM yourtable\")\n",
    "\n",
    "# Fetching the results\n",
    "results = cursor.fetchall()\n",
    "\n",
    "# Printing the results\n",
    "for row in results:\n",
    "    print(row)\n",
    "\n",
    "# Closing the cursor and connection\n",
    "cursor.close()\n",
    "mydb.close()\n",
    "'''"
   ]
  },
  {
   "cell_type": "code",
   "execution_count": null,
   "id": "e99e6885-f2a1-48ea-b784-d7aeb281d33f",
   "metadata": {},
   "outputs": [],
   "source": [
    "# 7th-\n",
    "\n",
    "''' The general order of execution for SQL clauses in a query is as follows:\n",
    "\n",
    "FROM: Specifies the table(s) from which to retrieve data.\n",
    "JOIN: If multiple tables are involved, JOIN clauses are used to combine them based on specified conditions.\n",
    "WHERE: Filters the rows based on specified conditions.\n",
    "GROUP BY: Groups the rows based on specified columns.\n",
    "HAVING: Filters the grouped rows based on specified conditions.\n",
    "SELECT: Specifies the columns to be included in the result set.\n",
    "DISTINCT: Removes duplicate rows from the result set.\n",
    "ORDER BY: Sorts the result set based on specified columns.\n",
    "LIMIT/OFFSET: Limits the number of rows returned or skips a specified number of rows.\n",
    "UNION/INTERSECT/EXCEPT: Combines multiple result sets or performs set operations.\n",
    "INSERT/UPDATE/DELETE: Modifies the data in the table(s) based on specified conditions.'''"
   ]
  }
 ],
 "metadata": {
  "kernelspec": {
   "display_name": "Python 3 (ipykernel)",
   "language": "python",
   "name": "python3"
  },
  "language_info": {
   "codemirror_mode": {
    "name": "ipython",
    "version": 3
   },
   "file_extension": ".py",
   "mimetype": "text/x-python",
   "name": "python",
   "nbconvert_exporter": "python",
   "pygments_lexer": "ipython3",
   "version": "3.10.8"
  }
 },
 "nbformat": 4,
 "nbformat_minor": 5
}
