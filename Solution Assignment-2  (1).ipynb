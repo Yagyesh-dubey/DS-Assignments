{
 "cells": [
  {
   "cell_type": "code",
   "execution_count": 1,
   "id": "915b437b-07e9-4284-97de-9eb61b3f57a0",
   "metadata": {},
   "outputs": [
    {
     "data": {
      "text/plain": [
       "'   you can comment your code to provide explanations or make notes that are ignored by the interpreter when\\nexecuting the program. There are two types of comments in Python: single-line comments and multi-line comments\\n\\n--> \\'#\\' this is used for single line comment\\n--> \"      \"  OR  \\'   \"\"\"    \"\"\"\"   \\'   are three pairs of single comments or double commas\\n      are used for multiple comments '"
      ]
     },
     "execution_count": 1,
     "metadata": {},
     "output_type": "execute_result"
    }
   ],
   "source": [
    "# 1st- \n",
    "'''   you can comment your code to provide explanations or make notes that are ignored by the interpreter when\n",
    "executing the program. There are two types of comments in Python: single-line comments and multi-line comments\n",
    "\n",
    "--> '#' this is used for single line comment\n",
    "--> \"   '''   '''   \"  OR  '   \"\"\"    \"\"\"\"   '   are three pairs of single comments or double commas\n",
    "      are used for multiple comments '''\n"
   ]
  },
  {
   "cell_type": "code",
   "execution_count": 6,
   "id": "662b9588-57fa-47eb-977a-3f4df0e50a8d",
   "metadata": {},
   "outputs": [
    {
     "name": "stdout",
     "output_type": "stream",
     "text": [
      "yagyesh\n"
     ]
    }
   ],
   "source": [
    "# 2nd- \n",
    "'''  variables are used to store and manipulate data. A variable is essentially a named location in memory where\n",
    "  you can store a value. Unlike some other programming languages, Python does not require explicit declaration\n",
    "  of variables. You can simply assign a value to a variable, and Python will create it dynamically.\n",
    "\n",
    "To declare and assign a value to a variable, you need to follow these rules:\n",
    "\n",
    "Choose a name for your variable: The name should be meaningful and descriptive, following the naming conventions\n",
    "  in Python. It can consist of letters (both lowercase and uppercase), digits, and underscores (_), but it cannot \n",
    "  start with a digit.\n",
    "\n",
    "Use the assignment operator (=): The assignment operator is used to assign a value to a variable. It takes the \n",
    "  form of variable_name = value, where variable_name is the name you chose for the variable, and value is the data\n",
    "  you want to store in the variable  '''\n",
    "\n",
    "#Example -->  \n",
    "name='yagyesh'\n",
    "print(name)"
   ]
  },
  {
   "cell_type": "code",
   "execution_count": 12,
   "id": "79128018-95e4-42db-88f4-4c95df75dde0",
   "metadata": {},
   "outputs": [
    {
     "name": "stdout",
     "output_type": "stream",
     "text": [
      "23\n"
     ]
    }
   ],
   "source": [
    "# 3rd- \n",
    "# We can use typecasting to convert the datatype of the variable \n",
    "# Example --> \n",
    "value='23'\n",
    "int_value=int(value)\n",
    "print(int_value)\n",
    "\n",
    "# In above example we are converting '23' string to 23 int , similarly we can use str() to convert int to string."
   ]
  },
  {
   "cell_type": "code",
   "execution_count": 7,
   "id": "8fc66570-f490-491b-a080-42369dc7a947",
   "metadata": {},
   "outputs": [
    {
     "data": {
      "text/plain": [
       "\" First we need to go in our directory where our file is located with command ' cd directory ' then type \\n  # python script.py  -> this will run our code \""
      ]
     },
     "execution_count": 7,
     "metadata": {},
     "output_type": "execute_result"
    }
   ],
   "source": [
    "# 4th- \n",
    "\"\"\" First we need to go in our directory where our file is located with command ' cd directory ' then type \"\"\"\n",
    "  # python script.py  -> this will run our code"
   ]
  },
  {
   "cell_type": "code",
   "execution_count": 14,
   "id": "aa3f110a-53bb-45ef-9e61-aa35b142f231",
   "metadata": {},
   "outputs": [
    {
     "name": "stdout",
     "output_type": "stream",
     "text": [
      "[2, 3]\n"
     ]
    }
   ],
   "source": [
    "# 5th- \n",
    "my_list=[1,2,3,4,5]\n",
    "\n",
    "print(list(my_list[1:3]))"
   ]
  },
  {
   "cell_type": "code",
   "execution_count": 16,
   "id": "0edf829f-8545-4127-a4fa-2950f5a18303",
   "metadata": {},
   "outputs": [
    {
     "name": "stdout",
     "output_type": "stream",
     "text": [
      "(2+3j)\n",
      "(2+5j)\n"
     ]
    }
   ],
   "source": [
    "# 6th-\n",
    "# --> In mathematics, a complex number is a number that comprises both a real part and an imaginary part. It is\n",
    "#     represented in the form of a + bj, where a represents the real part, b represents the imaginary part, and j\n",
    "#     represents the imaginary unit (√(-1)).\n",
    "\n",
    "# --> In Python, complex numbers are fully supported as a built-in numeric data type. They can be created using the\n",
    "# complex() function or by directly specifying the real and imaginary parts\n",
    "\n",
    "\n",
    "# Here are a few examples of creating complex numbers in Python:\n",
    "\n",
    "# 1- Using complex() function: \n",
    "z1=complex(2,3)\n",
    "\n",
    "# 2- Directly specifying real and imaginary parts:\n",
    "\n",
    "z2=2+5j\n",
    "\n",
    "print(z1)\n",
    "print(z2)"
   ]
  },
  {
   "cell_type": "code",
   "execution_count": 17,
   "id": "287a92d8-7361-46a1-a6f4-7d1d469bf5f7",
   "metadata": {},
   "outputs": [
    {
     "name": "stdout",
     "output_type": "stream",
     "text": [
      "25\n"
     ]
    }
   ],
   "source": [
    "# 7th- \n",
    "# --> Since it is age hence it shouls an intger \n",
    "\n",
    "age=25\n",
    "print(age)"
   ]
  },
  {
   "cell_type": "code",
   "execution_count": 18,
   "id": "ca4bd60c-844e-4af1-ae3f-6e1a5576e5dd",
   "metadata": {},
   "outputs": [
    {
     "name": "stdout",
     "output_type": "stream",
     "text": [
      "<class 'float'>\n"
     ]
    }
   ],
   "source": [
    "# 8th-\n",
    "price=9.99\n",
    "\n",
    "print(type(price))"
   ]
  },
  {
   "cell_type": "code",
   "execution_count": 20,
   "id": "025b624c-a49f-43f7-91c3-15b2dc00a262",
   "metadata": {},
   "outputs": [
    {
     "name": "stdout",
     "output_type": "stream",
     "text": [
      "YAGYESH DUBEY\n"
     ]
    }
   ],
   "source": [
    "# 9th-\n",
    "\n",
    "name=\"YAGYESH DUBEY\"\n",
    "\n",
    "print(name)"
   ]
  },
  {
   "cell_type": "code",
   "execution_count": 26,
   "id": "29fe84e0-8b93-4bad-b370-0beec4691533",
   "metadata": {},
   "outputs": [
    {
     "name": "stdout",
     "output_type": "stream",
     "text": [
      "World\n"
     ]
    }
   ],
   "source": [
    "# 10-\n",
    "string=\"Hello, World!\"\n",
    "\n",
    "Ind=string.index(\"World\")\n",
    "\n",
    "print(string[Ind:len(string)-1:])"
   ]
  },
  {
   "cell_type": "code",
   "execution_count": null,
   "id": "98f5c0b6-4250-4939-a1be-f6c5924813f0",
   "metadata": {},
   "outputs": [],
   "source": []
  }
 ],
 "metadata": {
  "kernelspec": {
   "display_name": "Python 3 (ipykernel)",
   "language": "python",
   "name": "python3"
  },
  "language_info": {
   "codemirror_mode": {
    "name": "ipython",
    "version": 3
   },
   "file_extension": ".py",
   "mimetype": "text/x-python",
   "name": "python",
   "nbconvert_exporter": "python",
   "pygments_lexer": "ipython3",
   "version": "3.10.8"
  }
 },
 "nbformat": 4,
 "nbformat_minor": 5
}
