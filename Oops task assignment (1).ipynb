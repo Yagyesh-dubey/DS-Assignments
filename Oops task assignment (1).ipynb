{
 "cells": [
  {
   "cell_type": "code",
   "execution_count": 8,
   "id": "4d806964-41da-44ef-98c5-0cda4bd3d7cb",
   "metadata": {},
   "outputs": [],
   "source": [
    "# 1st-\n",
    "class vehicle:\n",
    "    def __init__(self,name_of_vehicle, max_speed, average_of_vehicle):\n",
    "        self.name=name_of_vehicle\n",
    "        self.speed=max_speed\n",
    "        self.average_of_vehicle=average_of_vehicle\n",
    "        \n",
    "    def car_details(self):\n",
    "        return self.name,self.speed,self.average_of_vehicle"
   ]
  },
  {
   "cell_type": "code",
   "execution_count": 10,
   "id": "0ec13591-0b14-44eb-8e0c-41e86bb493c7",
   "metadata": {},
   "outputs": [
    {
     "data": {
      "text/plain": [
       "('toyota', 200, 100)"
      ]
     },
     "execution_count": 10,
     "metadata": {},
     "output_type": "execute_result"
    }
   ],
   "source": [
    "toyota=vehicle(\"toyota\",200,100)\n",
    "toyota.car_details()"
   ]
  },
  {
   "cell_type": "code",
   "execution_count": 17,
   "id": "f670be73-aac7-4829-8526-4f5c3aecfc0e",
   "metadata": {},
   "outputs": [],
   "source": [
    "# 2nd-\n",
    "class child_class_car(vehicle):\n",
    "    def seating_capacity (self,capacity):\n",
    "        return self.name, capacity\n",
    "    "
   ]
  },
  {
   "cell_type": "code",
   "execution_count": 19,
   "id": "e8ab6315-ce73-4291-8538-e4d37e1384b3",
   "metadata": {},
   "outputs": [
    {
     "name": "stdout",
     "output_type": "stream",
     "text": [
      "('i20', 4)\n"
     ]
    }
   ],
   "source": [
    "my_car=child_class_car(\"i20\",160,80)\n",
    "print(my_car.seating_capacity(4))"
   ]
  },
  {
   "cell_type": "code",
   "execution_count": 22,
   "id": "1e339529-87ad-49e8-a697-ec4e3697491a",
   "metadata": {},
   "outputs": [],
   "source": [
    "# 3rd-\n",
    "# Multiple inheritance is a feature in object-oriented programming languages that allows a class to inherit from \n",
    "# more than one parent class. This means that a child class can inherit attributes and methods from multiple classes.\n",
    "\n",
    "class class1:\n",
    "    def print1(self):\n",
    "        return \"I am class1\"\n",
    "class class2:\n",
    "    def print2(self):\n",
    "        return \"I am class2\"\n",
    "\n",
    "class class3(class1,class2):\n",
    "    pass\n",
    "\n",
    "obj_class3=class3()\n",
    "\n"
   ]
  },
  {
   "cell_type": "code",
   "execution_count": 24,
   "id": "bd646dcf-fbb2-4148-a672-ef4af41bcf75",
   "metadata": {},
   "outputs": [
    {
     "data": {
      "text/plain": [
       "'I am class1'"
      ]
     },
     "execution_count": 24,
     "metadata": {},
     "output_type": "execute_result"
    }
   ],
   "source": [
    "obj_class3.print1()"
   ]
  },
  {
   "cell_type": "code",
   "execution_count": 25,
   "id": "95fd999f-fa4f-4bf6-aa8a-491fd7a27d48",
   "metadata": {},
   "outputs": [
    {
     "data": {
      "text/plain": [
       "'I am class2'"
      ]
     },
     "execution_count": 25,
     "metadata": {},
     "output_type": "execute_result"
    }
   ],
   "source": [
    "obj_class3.print2()"
   ]
  },
  {
   "cell_type": "code",
   "execution_count": 26,
   "id": "33216edd-c1e8-47f4-ad21-c97470c91186",
   "metadata": {},
   "outputs": [
    {
     "name": "stdout",
     "output_type": "stream",
     "text": [
      "John\n",
      "Alice\n",
      "Invalid name format.\n"
     ]
    }
   ],
   "source": [
    "# 4th-\n",
    "# getter and setter methods are used to control the access and modification of class attributes or properties. \n",
    "# They provide a way to encapsulate data and ensure proper data manipulation.\n",
    "\n",
    "class Person:\n",
    "    def __init__(self, name):\n",
    "        self._name = name\n",
    "\n",
    "    def get_name(self):\n",
    "        return self._name\n",
    "\n",
    "    def set_name(self, new_name):\n",
    "        if isinstance(new_name, str):\n",
    "            self._name = new_name\n",
    "        else:\n",
    "            print(\"Invalid name format.\")\n",
    "\n",
    "# Example usage:\n",
    "person = Person(\"John\")\n",
    "print(person.get_name())  # Output: John\n",
    "\n",
    "person.set_name(\"Alice\")\n",
    "print(person.get_name())  # Output: Alice\n",
    "\n",
    "person.set_name(123)  # Output: Invalid name format.\n"
   ]
  },
  {
   "cell_type": "code",
   "execution_count": 28,
   "id": "1df1fd80-f964-4666-ae36-afd7b495e8b3",
   "metadata": {},
   "outputs": [
    {
     "name": "stdout",
     "output_type": "stream",
     "text": [
      "Animal makes a sound.\n",
      "Dog barks.\n"
     ]
    }
   ],
   "source": [
    "# 5th-\n",
    "# Method overriding is a concept in object-oriented programming where a child class defines a method with the same \n",
    "# name as a method in its parent class. The child class's method overrides the implementation of the parent class's \n",
    "# method, allowing the child class to provide its own implementation.\n",
    "\n",
    "class Animal:\n",
    "    def sound(self):\n",
    "        print(\"Animal makes a sound.\")\n",
    "\n",
    "\n",
    "class Dog(Animal):\n",
    "    def sound(self):\n",
    "        print(\"Dog barks.\")\n",
    "\n",
    "\n",
    "# Example usage:\n",
    "animal = Animal()\n",
    "animal.sound()  # Output: Animal makes a sound.\n",
    "\n",
    "dog = Dog()\n",
    "dog.sound()  # Output: Dog barks.\n"
   ]
  },
  {
   "cell_type": "code",
   "execution_count": null,
   "id": "5b295990-c528-446d-9efe-d243bee51b20",
   "metadata": {},
   "outputs": [],
   "source": []
  }
 ],
 "metadata": {
  "kernelspec": {
   "display_name": "Python 3 (ipykernel)",
   "language": "python",
   "name": "python3"
  },
  "language_info": {
   "codemirror_mode": {
    "name": "ipython",
    "version": 3
   },
   "file_extension": ".py",
   "mimetype": "text/x-python",
   "name": "python",
   "nbconvert_exporter": "python",
   "pygments_lexer": "ipython3",
   "version": "3.10.8"
  }
 },
 "nbformat": 4,
 "nbformat_minor": 5
}
