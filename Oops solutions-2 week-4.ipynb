{
 "cells": [
  {
   "cell_type": "code",
   "execution_count": 1,
   "id": "3cd74557-ec09-49ef-8765-f46976f133c1",
   "metadata": {},
   "outputs": [
    {
     "data": {
      "text/plain": [
       "' Abstraction in object-oriented programming refers to the process of hiding the internal implementation details \\nof an object and exposing only the essential features or functionalities to the outside world. It allows us \\nto focus on what an object does rather than how it does it. Abstraction helps in simplifying complex systems \\nby breaking them down into manageable and understandable components.\\n\\nFor example, let\\'s consider a class called \"Car\" that represents a car object. The class may have various attributes\\nlike \"brand,\" \"model,\" and \"color,\" as well as methods like \"start_engine()\" and \"drive().\" From the perspective \\nof using the car object, we don\\'t need to know the intricate details of how the engine starts or how the car moves.\\nWe can simply use the exposed methods to interact with the car object and achieve our desired functionality. The\\ninternal complexities are abstracted away, allowing us to work with a higher-level representation of the car.'"
      ]
     },
     "execution_count": 1,
     "metadata": {},
     "output_type": "execute_result"
    }
   ],
   "source": [
    "# 1st-\n",
    "''' Abstraction in object-oriented programming refers to the process of hiding the internal implementation details \n",
    "of an object and exposing only the essential features or functionalities to the outside world. It allows us \n",
    "to focus on what an object does rather than how it does it. Abstraction helps in simplifying complex systems \n",
    "by breaking them down into manageable and understandable components.\n",
    "\n",
    "For example, let's consider a class called \"Car\" that represents a car object. The class may have various attributes\n",
    "like \"brand,\" \"model,\" and \"color,\" as well as methods like \"start_engine()\" and \"drive().\" From the perspective \n",
    "of using the car object, we don't need to know the intricate details of how the engine starts or how the car moves.\n",
    "We can simply use the exposed methods to interact with the car object and achieve our desired functionality. The\n",
    "internal complexities are abstracted away, allowing us to work with a higher-level representation of the car.'''"
   ]
  },
  {
   "cell_type": "code",
   "execution_count": 3,
   "id": "0eed56ac-b467-457d-8625-63d9b42a1ea5",
   "metadata": {},
   "outputs": [
    {
     "data": {
      "text/plain": [
       "\" In this example, encapsulation is evident as the data (account number and balance) and the methods \\n(deposit, withdraw, and get_balance) are encapsulated within the class. The internal state of the object is \\nhidden from the outside world, and controlled access is provided through the defined methods.\\n\\nOn the other hand, abstraction comes into play when we interact with the object. We don't need to know the \\ninternal implementation details of how the balance is stored or how the deposit and withdrawal operations are \\nperformed. We can simply use the provided methods to deposit, withdraw, and retrieve the balance, abstracting \\naway the underlying complexities. \""
      ]
     },
     "execution_count": 3,
     "metadata": {},
     "output_type": "execute_result"
    }
   ],
   "source": [
    "# 2nd-\n",
    "''' Abstraction and encapsulation are two fundamental concepts in object-oriented programming, but they serve \n",
    "different purposes:\n",
    "\n",
    "Abstraction focuses on exposing only the necessary details and hiding the internal complexities, providing a \n",
    "high-level view of the functionality.\n",
    "\n",
    "Encapsulation focuses on bundling the data and methods related to an object together, allowing controlled access\n",
    "to the internal state of the object.\n",
    "\n",
    "In other words, abstraction deals with the outside view of an object, emphasizing what an object does, while \n",
    "encapsulation deals with the internal structure of an object, emphasizing how an object does it.\n",
    "\n",
    "For example, let's consider a class called \"BankAccount\": '''\n",
    "\n",
    "\n",
    "class BankAccount:\n",
    "    def __init__(self, account_number, balance):\n",
    "        self.account_number = account_number\n",
    "        self.balance = balance\n",
    "\n",
    "    def deposit(self, amount):\n",
    "        self.balance += amount\n",
    "\n",
    "    def withdraw(self, amount):\n",
    "        if self.balance >= amount:\n",
    "            self.balance -= amount\n",
    "        else:\n",
    "            print(\"Insufficient balance.\")\n",
    "\n",
    "    def get_balance(self):\n",
    "        return self.balance\n",
    "\n",
    "    \n",
    "\n",
    "''' In this example, encapsulation is evident as the data (account number and balance) and the methods \n",
    "(deposit, withdraw, and get_balance) are encapsulated within the class. The internal state of the object is \n",
    "hidden from the outside world, and controlled access is provided through the defined methods.\n",
    "\n",
    "On the other hand, abstraction comes into play when we interact with the object. We don't need to know the \n",
    "internal implementation details of how the balance is stored or how the deposit and withdrawal operations are \n",
    "performed. We can simply use the provided methods to deposit, withdraw, and retrieve the balance, abstracting \n",
    "away the underlying complexities. '''"
   ]
  },
  {
   "cell_type": "code",
   "execution_count": 4,
   "id": "1d9c445d-5620-4a1e-8a57-05424e93bf73",
   "metadata": {},
   "outputs": [
    {
     "name": "stdout",
     "output_type": "stream",
     "text": [
      "15\n",
      "16\n"
     ]
    }
   ],
   "source": [
    "# 3rd-\n",
    "''' The abc module in Python stands for \"Abstract Base Classes.\" It provides infrastructure for defining abstract \n",
    "    base classes in Python. An abstract base class (ABC) is a class that cannot be instantiated directly and is\n",
    "    meant to be subclassed by other classes.\n",
    "\n",
    "The abc module allows you to define abstract methods and enforce the implementation of these methods in the \n",
    "derived classes. By using ABCs, you can define a common interface that multiple classes should adhere to, \n",
    "ensuring that certain methods are implemented consistently across those classes. '''\n",
    "\n",
    "\n",
    "\n",
    "from abc import ABC, abstractmethod\n",
    "\n",
    "class Shape(ABC):\n",
    "    @abstractmethod\n",
    "    def area(self):\n",
    "        pass\n",
    "\n",
    "    @abstractmethod\n",
    "    def perimeter(self):\n",
    "        pass\n",
    "\n",
    "class Rectangle(Shape):\n",
    "    def __init__(self, length, width):\n",
    "        self.length = length\n",
    "        self.width = width\n",
    "\n",
    "    def area(self):\n",
    "        return self.length * self.width\n",
    "\n",
    "    def perimeter(self):\n",
    "        return 2 * (self.length + self.width)\n",
    "\n",
    "rect = Rectangle(5, 3)\n",
    "print(rect.area())\n",
    "print(rect.perimeter())\n"
   ]
  },
  {
   "cell_type": "code",
   "execution_count": 5,
   "id": "58b52d39-a7a9-4d82-8fb4-35668b982c73",
   "metadata": {},
   "outputs": [
    {
     "data": {
      "text/plain": [
       "' Data abstraction in object-oriented programming refers to the concept of representing complex real-world \\n    entities as objects with simplified and essential characteristics. It involves identifying the relevant \\n    attributes and behaviors of an object and encapsulating them within a class.\\n\\nTo achieve data abstraction, you can follow these steps:\\n\\nIdentify the essential attributes and behaviors of the object you want to represent.\\nCreate a class that encapsulates these attributes and behaviors.\\nProvide public methods in the class to interact with the object and manipulate its data. These methods should \\nabstract away the internal implementation details and provide a higher-level interface.\\nBy providing this higher-level interface, you can hide the complexities of the underlying data structures and \\nalgorithms from the outside world. This allows users of the class to interact with the object in a simplified \\nand intuitive manner, without needing to understand the internal implementation. '"
      ]
     },
     "execution_count": 5,
     "metadata": {},
     "output_type": "execute_result"
    }
   ],
   "source": [
    "# 4th-\n",
    "''' Data abstraction in object-oriented programming refers to the concept of representing complex real-world \n",
    "    entities as objects with simplified and essential characteristics. It involves identifying the relevant \n",
    "    attributes and behaviors of an object and encapsulating them within a class.\n",
    "\n",
    "To achieve data abstraction, you can follow these steps:\n",
    "\n",
    "Identify the essential attributes and behaviors of the object you want to represent.\n",
    "Create a class that encapsulates these attributes and behaviors.\n",
    "Provide public methods in the class to interact with the object and manipulate its data. These methods should \n",
    "abstract away the internal implementation details and provide a higher-level interface.\n",
    "By providing this higher-level interface, you can hide the complexities of the underlying data structures and \n",
    "algorithms from the outside world. This allows users of the class to interact with the object in a simplified \n",
    "and intuitive manner, without needing to understand the internal implementation. '''"
   ]
  },
  {
   "cell_type": "code",
   "execution_count": 6,
   "id": "5fc28357-fbc4-46fe-b765-3af668ccc08d",
   "metadata": {},
   "outputs": [
    {
     "ename": "TypeError",
     "evalue": "Can't instantiate abstract class AbstractClass with abstract method abstract_method",
     "output_type": "error",
     "traceback": [
      "\u001b[0;31m---------------------------------------------------------------------------\u001b[0m",
      "\u001b[0;31mTypeError\u001b[0m                                 Traceback (most recent call last)",
      "Cell \u001b[0;32mIn[6], line 19\u001b[0m\n\u001b[1;32m     16\u001b[0m         \u001b[38;5;28;01mpass\u001b[39;00m\n\u001b[1;32m     18\u001b[0m \u001b[38;5;66;03m# Trying to create an instance of the abstract class\u001b[39;00m\n\u001b[0;32m---> 19\u001b[0m instance \u001b[38;5;241m=\u001b[39m \u001b[43mAbstractClass\u001b[49m\u001b[43m(\u001b[49m\u001b[43m)\u001b[49m  \u001b[38;5;66;03m# This will raise a TypeError\u001b[39;00m\n",
      "\u001b[0;31mTypeError\u001b[0m: Can't instantiate abstract class AbstractClass with abstract method abstract_method"
     ]
    }
   ],
   "source": [
    "# 5th-\n",
    "''' No, you cannot create an instance of an abstract class in most programming languages, including Python. An \n",
    "abstract class is designed to be a blueprint for other classes and is meant to be subclassed. It cannot be \n",
    "instantiated directly because it typically contains one or more abstract methods that do not have an \n",
    "implementation in the abstract class itself.\n",
    "\n",
    "In Python, you can create an abstract class by importing the ABC class from the abc module and using the \n",
    "@abstractmethod decorator to mark the abstract methods. If you try to instantiate an abstract class directly, \n",
    "you will get a TypeError . '''\n",
    "\n",
    "from abc import ABC, abstractmethod\n",
    "\n",
    "class AbstractClass(ABC):\n",
    "    @abstractmethod\n",
    "    def abstract_method(self):\n",
    "        pass\n",
    "\n",
    "# Trying to create an instance of the abstract class\n",
    "instance = AbstractClass()  # This will raise a TypeError"
   ]
  },
  {
   "cell_type": "code",
   "execution_count": null,
   "id": "b0c29469-b915-489a-9966-d480d8c8116a",
   "metadata": {},
   "outputs": [],
   "source": []
  }
 ],
 "metadata": {
  "kernelspec": {
   "display_name": "Python 3 (ipykernel)",
   "language": "python",
   "name": "python3"
  },
  "language_info": {
   "codemirror_mode": {
    "name": "ipython",
    "version": 3
   },
   "file_extension": ".py",
   "mimetype": "text/x-python",
   "name": "python",
   "nbconvert_exporter": "python",
   "pygments_lexer": "ipython3",
   "version": "3.10.8"
  }
 },
 "nbformat": 4,
 "nbformat_minor": 5
}
