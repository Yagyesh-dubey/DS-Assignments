{
 "cells": [
  {
   "cell_type": "code",
   "execution_count": 1,
   "id": "b6342105-5c15-4477-ac86-0b5484af1b11",
   "metadata": {},
   "outputs": [
    {
     "data": {
      "text/plain": [
       "' \\nMultiprocessing in Python is a technique used to execute multiple processes concurrently, where each process runs \\nindependently and can utilize multiple CPU cores. It enables parallel execution of tasks, allowing for efficient \\nutilization of available hardware resources.\\n\\n\\nHere are some reasons why multiprocessing is useful:\\n\\nIncreased Performance: Multiprocessing can significantly improve the performance of CPU-bound tasks by leveraging \\nmultiple processor cores. By executing tasks in parallel, multiprocessing allows for faster computation and better \\nutilization of available hardware resources. This is particularly beneficial for tasks that can be divided into \\nsmaller independent units of work.\\n\\nImproved Responsiveness: Multiprocessing can enhance the responsiveness of an application by offloading \\ncomputationally intensive tasks to separate processes. This helps prevent the application from becoming \\nunresponsive or freezing during heavy processing. By distributing the workload across multiple processes, the main \\nprocess remains free to handle user interactions and respond promptly.\\n\\nProcess Isolation: Each process created using multiprocessing has its own memory space. This provides process-level\\nisolation, preventing unintended interactions and side effects between processes. It allows for more robust and \\nreliable execution of tasks as issues in one process are less likely to impact others.'"
      ]
     },
     "execution_count": 1,
     "metadata": {},
     "output_type": "execute_result"
    }
   ],
   "source": [
    "# 1st-\n",
    "''' \n",
    "Multiprocessing in Python is a technique used to execute multiple processes concurrently, where each process runs \n",
    "independently and can utilize multiple CPU cores. It enables parallel execution of tasks, allowing for efficient \n",
    "utilization of available hardware resources.\n",
    "\n",
    "\n",
    "Here are some reasons why multiprocessing is useful:\n",
    "\n",
    "Increased Performance: Multiprocessing can significantly improve the performance of CPU-bound tasks by leveraging \n",
    "multiple processor cores. By executing tasks in parallel, multiprocessing allows for faster computation and better \n",
    "utilization of available hardware resources. This is particularly beneficial for tasks that can be divided into \n",
    "smaller independent units of work.\n",
    "\n",
    "Improved Responsiveness: Multiprocessing can enhance the responsiveness of an application by offloading \n",
    "computationally intensive tasks to separate processes. This helps prevent the application from becoming \n",
    "unresponsive or freezing during heavy processing. By distributing the workload across multiple processes, the main \n",
    "process remains free to handle user interactions and respond promptly.\n",
    "\n",
    "Process Isolation: Each process created using multiprocessing has its own memory space. This provides process-level\n",
    "isolation, preventing unintended interactions and side effects between processes. It allows for more robust and \n",
    "reliable execution of tasks as issues in one process are less likely to impact others.'''"
   ]
  },
  {
   "cell_type": "code",
   "execution_count": 2,
   "id": "4677d50b-59a1-4112-84b9-bbcc07cea5c9",
   "metadata": {},
   "outputs": [
    {
     "data": {
      "text/plain": [
       "\" The main differences between multiprocessing and multithreading lie in how they achieve concurrent execution \\nand utilize system resources. Here are the key distinctions:\\n\\nExecution Model:\\n\\nMultiprocessing: In multiprocessing, multiple processes are created, and each process runs independently with its \\nown memory space. Each process has its own Python interpreter, and communication between processes typically \\ninvolves IPC mechanisms like pipes, queues, or shared memory. Processes can run on multiple CPU cores in parallel, \\nutilizing multiple resources simultaneously.\\n\\nMultithreading: In multithreading, multiple threads are created within a single process, and all threads share the \\nsame memory space. Threads within a process share the resources allocated to that process, such as memory, file \\ndescriptors, and other system resources. Threads are scheduled by the operating system's thread scheduler, and they\\ncan run concurrently on a single CPU core.\\n\\n\\n\\nResource Utilization:\\n\\nMultiprocessing: Multiprocessing allows for parallel execution of processes across multiple CPU cores. Each process\\nruns independently and can utilize multiple resources simultaneously, making it suitable for CPU-bound tasks that \\nbenefit from parallelism.\\n\\nMultithreading: Multithreading, on the other hand, does not utilize multiple CPU cores directly. Due to the Global\\nInterpreter Lock (GIL) in CPython, only one thread can execute Python bytecode at a time, even if the system has \\nmultiple cores. Therefore, multithreading is more suitable for I/O-bound tasks or scenarios that involve extensive\\nuse of blocking operations (such as network requests or file I/O) where threads can yield to allow other threads \\nto run.\\n\\n\\n\\nMemory Overhead:\\n\\nMultiprocessing: Each process in multiprocessing has its own memory space, which includes a separate copy of the \\nprogram, data, and resources. This introduces memory duplication, and the memory overhead is higher compared to \\nmultithreading.\\n\\nMultithreading: Threads within a process share the same memory space, resulting in lower memory overhead. Threads \\ncan directly access shared data and resources, which simplifies communication and data sharing between threads.\\n\\n\\n\\nComplexity and Synchronization:\\n\\nMultiprocessing: Processes in multiprocessing are more isolated and do not share memory by default. Inter-process \\ncommunication mechanisms like pipes, queues, or shared memory need to be used for communication between processes.\\nSynchronization between processes is typically achieved using these communication mechanisms and locks.\\n\\nMultithreading: Threads in multithreading share the same memory space and can directly access shared data. However,\\nproper synchronization mechanisms like locks, mutexes, or semaphores need to be employed to ensure thread-safe \\naccess and avoid race conditions or data corruption.\""
      ]
     },
     "execution_count": 2,
     "metadata": {},
     "output_type": "execute_result"
    }
   ],
   "source": [
    "# 2nd-\n",
    "''' The main differences between multiprocessing and multithreading lie in how they achieve concurrent execution \n",
    "and utilize system resources. Here are the key distinctions:\n",
    "\n",
    "Execution Model:\n",
    "\n",
    "Multiprocessing: In multiprocessing, multiple processes are created, and each process runs independently with its \n",
    "own memory space. Each process has its own Python interpreter, and communication between processes typically \n",
    "involves IPC mechanisms like pipes, queues, or shared memory. Processes can run on multiple CPU cores in parallel, \n",
    "utilizing multiple resources simultaneously.\n",
    "\n",
    "Multithreading: In multithreading, multiple threads are created within a single process, and all threads share the \n",
    "same memory space. Threads within a process share the resources allocated to that process, such as memory, file \n",
    "descriptors, and other system resources. Threads are scheduled by the operating system's thread scheduler, and they\n",
    "can run concurrently on a single CPU core.\n",
    "\n",
    "\n",
    "\n",
    "Resource Utilization:\n",
    "\n",
    "Multiprocessing: Multiprocessing allows for parallel execution of processes across multiple CPU cores. Each process\n",
    "runs independently and can utilize multiple resources simultaneously, making it suitable for CPU-bound tasks that \n",
    "benefit from parallelism.\n",
    "\n",
    "Multithreading: Multithreading, on the other hand, does not utilize multiple CPU cores directly. Due to the Global\n",
    "Interpreter Lock (GIL) in CPython, only one thread can execute Python bytecode at a time, even if the system has \n",
    "multiple cores. Therefore, multithreading is more suitable for I/O-bound tasks or scenarios that involve extensive\n",
    "use of blocking operations (such as network requests or file I/O) where threads can yield to allow other threads \n",
    "to run.\n",
    "\n",
    "\n",
    "\n",
    "Memory Overhead:\n",
    "\n",
    "Multiprocessing: Each process in multiprocessing has its own memory space, which includes a separate copy of the \n",
    "program, data, and resources. This introduces memory duplication, and the memory overhead is higher compared to \n",
    "multithreading.\n",
    "\n",
    "Multithreading: Threads within a process share the same memory space, resulting in lower memory overhead. Threads \n",
    "can directly access shared data and resources, which simplifies communication and data sharing between threads.\n",
    "\n",
    "\n",
    "\n",
    "Complexity and Synchronization:\n",
    "\n",
    "Multiprocessing: Processes in multiprocessing are more isolated and do not share memory by default. Inter-process \n",
    "communication mechanisms like pipes, queues, or shared memory need to be used for communication between processes.\n",
    "Synchronization between processes is typically achieved using these communication mechanisms and locks.\n",
    "\n",
    "Multithreading: Threads in multithreading share the same memory space and can directly access shared data. However,\n",
    "proper synchronization mechanisms like locks, mutexes, or semaphores need to be employed to ensure thread-safe \n",
    "access and avoid race conditions or data corruption.'''"
   ]
  },
  {
   "cell_type": "code",
   "execution_count": 3,
   "id": "c348c58f-c53a-4eca-8032-65b43d13a879",
   "metadata": {},
   "outputs": [
    {
     "name": "stdout",
     "output_type": "stream",
     "text": [
      "Worker process ID: 2550\n",
      "Main process finished\n"
     ]
    }
   ],
   "source": [
    "# 3rd-\n",
    "import multiprocessing\n",
    "\n",
    "# Function to be executed by the process\n",
    "def worker():\n",
    "    process_id = multiprocessing.current_process().pid\n",
    "    print(f\"Worker process ID: {process_id}\")\n",
    "\n",
    "if __name__ == \"__main__\":\n",
    "    # Create a process\n",
    "    process = multiprocessing.Process(target=worker)\n",
    "\n",
    "    # Start the process\n",
    "    process.start()\n",
    "\n",
    "    # Wait for the process to finish\n",
    "    process.join()\n",
    "\n",
    "    print(\"Main process finished\")"
   ]
  },
  {
   "cell_type": "code",
   "execution_count": 4,
   "id": "0b7e6c93-2368-411b-b16a-8dc5834b23ea",
   "metadata": {},
   "outputs": [
    {
     "data": {
      "text/plain": [
       "' A multiprocessing pool in Python is a feature provided by the multiprocessing module that allows for the \\nexecution of multiple processes concurrently in a controlled and efficient manner. It provides a convenient way to \\ndistribute tasks across a fixed number of worker processes, known as a pool, to parallelize the execution of a \\nfunction or method.\\n\\nThe multiprocessing pool is primarily used to achieve parallelism and maximize resource utilization by dividing the\\nworkload among multiple processes. Here are the key benefits and use cases of using a multiprocessing pool:\\n\\nParallel Execution: A multiprocessing pool allows you to execute multiple instances of a function or method \\nconcurrently. By utilizing multiple processes, it enables parallel execution of tasks, leading to improved \\nperformance and reduced execution time, especially for CPU-bound tasks.\\n\\nLoad Balancing: The pool automatically distributes the workload evenly among the available worker processes. This \\nensures that tasks are efficiently allocated across the processes, preventing any one process from being overloaded\\nwhile others are idle. Load balancing helps in achieving optimal resource utilization and performance.\\n\\nResource Management: The multiprocessing pool manages the creation and management of worker processes, reducing the\\noverhead of creating processes for each task manually. It maintains a pool of worker processes, reusing them for \\nmultiple tasks, which helps reduce the overhead associated with process creation and termination.'"
      ]
     },
     "execution_count": 4,
     "metadata": {},
     "output_type": "execute_result"
    }
   ],
   "source": [
    "# 4th-\n",
    "''' A multiprocessing pool in Python is a feature provided by the multiprocessing module that allows for the \n",
    "execution of multiple processes concurrently in a controlled and efficient manner. It provides a convenient way to \n",
    "distribute tasks across a fixed number of worker processes, known as a pool, to parallelize the execution of a \n",
    "function or method.\n",
    "\n",
    "The multiprocessing pool is primarily used to achieve parallelism and maximize resource utilization by dividing the\n",
    "workload among multiple processes. Here are the key benefits and use cases of using a multiprocessing pool:\n",
    "\n",
    "Parallel Execution: A multiprocessing pool allows you to execute multiple instances of a function or method \n",
    "concurrently. By utilizing multiple processes, it enables parallel execution of tasks, leading to improved \n",
    "performance and reduced execution time, especially for CPU-bound tasks.\n",
    "\n",
    "Load Balancing: The pool automatically distributes the workload evenly among the available worker processes. This \n",
    "ensures that tasks are efficiently allocated across the processes, preventing any one process from being overloaded\n",
    "while others are idle. Load balancing helps in achieving optimal resource utilization and performance.\n",
    "\n",
    "Resource Management: The multiprocessing pool manages the creation and management of worker processes, reducing the\n",
    "overhead of creating processes for each task manually. It maintains a pool of worker processes, reusing them for \n",
    "multiple tasks, which helps reduce the overhead associated with process creation and termination.'''"
   ]
  },
  {
   "cell_type": "code",
   "execution_count": 5,
   "id": "67220a5b-ceca-4c55-824f-5469c66cade9",
   "metadata": {},
   "outputs": [
    {
     "name": "stdout",
     "output_type": "stream",
     "text": [
      "Results: [1, 4, 9, 16, 25]\n"
     ]
    }
   ],
   "source": [
    "# 5th-\n",
    "''' To create a pool of worker processes in Python using the multiprocessing module, you can utilize the Pool class\n",
    "provided by the module. The Pool class manages a pool of worker processes and provides an interface to distribute \n",
    "tasks among them. Here's an example:'''\n",
    "\n",
    "\n",
    "import multiprocessing\n",
    "\n",
    "# Function to be executed by the worker processes\n",
    "def worker_task(number):\n",
    "    result = number ** 2\n",
    "    return result\n",
    "\n",
    "if __name__ == \"__main__\":\n",
    "    # Create a multiprocessing pool with a specified number of processes\n",
    "    pool = multiprocessing.Pool(processes=4)  # Number of worker processes is set to 4\n",
    "\n",
    "    # Define the list of tasks to be executed in parallel\n",
    "    tasks = [1, 2, 3, 4, 5]\n",
    "\n",
    "    # Apply the worker_task function to the tasks using the pool\n",
    "    results = pool.map(worker_task, tasks)\n",
    "\n",
    "    # Close the pool and wait for the worker processes to finish\n",
    "    pool.close()\n",
    "    pool.join()\n",
    "\n",
    "    # Print the results\n",
    "    print(\"Results:\", results)"
   ]
  },
  {
   "cell_type": "code",
   "execution_count": 6,
   "id": "3a85f51e-3f65-4268-8125-653f089ad142",
   "metadata": {},
   "outputs": [
    {
     "name": "stdout",
     "output_type": "stream",
     "text": [
      "Process ID: 2653, Number: 1\n",
      "Process ID: 2656, Number: 2\n",
      "Process ID: 2663, Number: 3\n",
      "Process ID: 2666, Number: 4\n",
      "All processes finished\n"
     ]
    }
   ],
   "source": [
    "#6th-\n",
    "import multiprocessing\n",
    "\n",
    "# Function to be executed by the processes\n",
    "def print_number(number):\n",
    "    print(f\"Process ID: {multiprocessing.current_process().pid}, Number: {number}\")\n",
    "\n",
    "if __name__ == \"__main__\":\n",
    "    # Create a list of numbers\n",
    "    numbers = [1, 2, 3, 4]\n",
    "\n",
    "    # Create and start processes for each number\n",
    "    processes = []\n",
    "    for number in numbers:\n",
    "        process = multiprocessing.Process(target=print_number, args=(number,))\n",
    "        process.start()\n",
    "        processes.append(process)\n",
    "\n",
    "    # Wait for all processes to finish\n",
    "    for process in processes:\n",
    "        process.join()\n",
    "\n",
    "    print(\"All processes finished\")\n"
   ]
  },
  {
   "cell_type": "code",
   "execution_count": null,
   "id": "81f5e407-66d3-44ee-92b0-c2c616e51d2a",
   "metadata": {},
   "outputs": [],
   "source": []
  }
 ],
 "metadata": {
  "kernelspec": {
   "display_name": "Python 3 (ipykernel)",
   "language": "python",
   "name": "python3"
  },
  "language_info": {
   "codemirror_mode": {
    "name": "ipython",
    "version": 3
   },
   "file_extension": ".py",
   "mimetype": "text/x-python",
   "name": "python",
   "nbconvert_exporter": "python",
   "pygments_lexer": "ipython3",
   "version": "3.10.8"
  }
 },
 "nbformat": 4,
 "nbformat_minor": 5
}
