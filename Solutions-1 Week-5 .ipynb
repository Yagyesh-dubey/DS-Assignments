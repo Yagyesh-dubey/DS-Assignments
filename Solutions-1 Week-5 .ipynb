{
 "cells": [
  {
   "cell_type": "code",
   "execution_count": 3,
   "id": "9805bcee-6a0c-4963-ae1e-e655e6d724ef",
   "metadata": {},
   "outputs": [
    {
     "data": {
      "text/plain": [
       "'  In Python, an exception is an event that occurs during the execution of a program that disrupts the normal flow\\nof instructions. It is a way to handle and manage errors and exceptional situations that may arise while a program\\nis running.\\n\\nExceptions are typically raised when something unexpected or erroneous happens in the code. For example, if you\\ntry to divide a number by zero or access an element outside the bounds of a list, Python will raise exceptions to \\nindicate that an error has occurred. \\n\\nHere are some key differences between exceptions and syntax errors:\\n\\nDetection: Syntax errors are caught by the Python interpreter during the parsing phase, before the code is executed.\\nExceptions, on the other hand, are detected during runtime when a specific error condition occurs.\\n\\nTiming: Syntax errors prevent the code from running at all, while exceptions occur during the execution of a \\nprogram.\\n\\nHandling: Syntax errors require fixing the code by correcting the syntax mistake before the program can run. \\nExceptions, on the other hand, can be handled using try-except blocks, allowing the program to gracefully respond to errors and continue execution.\\n\\nTypes: Syntax errors are limited to errors in the language syntax, such as incorrect keywords or missing \\npunctuation. Exceptions, however, cover a broader range of errors, including logical errors, runtime errors, and \\nexternal errors like I/O errors or network failures. '"
      ]
     },
     "execution_count": 3,
     "metadata": {},
     "output_type": "execute_result"
    }
   ],
   "source": [
    "# 1st-\n",
    "'''  In Python, an exception is an event that occurs during the execution of a program that disrupts the normal flow\n",
    "of instructions. It is a way to handle and manage errors and exceptional situations that may arise while a program\n",
    "is running.\n",
    "\n",
    "Exceptions are typically raised when something unexpected or erroneous happens in the code. For example, if you\n",
    "try to divide a number by zero or access an element outside the bounds of a list, Python will raise exceptions to \n",
    "indicate that an error has occurred. \n",
    "\n",
    "Here are some key differences between exceptions and syntax errors:\n",
    "\n",
    "Detection: Syntax errors are caught by the Python interpreter during the parsing phase, before the code is executed.\n",
    "Exceptions, on the other hand, are detected during runtime when a specific error condition occurs.\n",
    "\n",
    "Timing: Syntax errors prevent the code from running at all, while exceptions occur during the execution of a \n",
    "program.\n",
    "\n",
    "Handling: Syntax errors require fixing the code by correcting the syntax mistake before the program can run. \n",
    "Exceptions, on the other hand, can be handled using try-except blocks, allowing the program to gracefully respond to errors and continue execution.\n",
    "\n",
    "Types: Syntax errors are limited to errors in the language syntax, such as incorrect keywords or missing \n",
    "punctuation. Exceptions, however, cover a broader range of errors, including logical errors, runtime errors, and \n",
    "external errors like I/O errors or network failures. '''"
   ]
  },
  {
   "cell_type": "code",
   "execution_count": 4,
   "id": "22357612-3186-4eec-a422-ad28d89d5b3c",
   "metadata": {},
   "outputs": [
    {
     "name": "stdout",
     "output_type": "stream",
     "text": [
      "Error: Cannot divide by zero\n"
     ]
    }
   ],
   "source": [
    "# 2nd-\n",
    "'''  When an exception is not handled in Python, it leads to what is known as an \"unhandled exception.\" In this \n",
    "situation, the program cannot continue its normal execution and terminates abruptly, displaying an error message \n",
    "that describes the unhandled exception and its associated traceback '''\n",
    "\n",
    "# Example: Division by zero with exception handling\n",
    "\n",
    "num1 = 10\n",
    "num2 = 0\n",
    "\n",
    "try:\n",
    "    result = num1 / num2\n",
    "    print(\"Result:\", result)  # This line will not be executed in case of an exception\n",
    "except ZeroDivisionError:\n",
    "    print(\"Error: Cannot divide by zero\")\n"
   ]
  },
  {
   "cell_type": "code",
   "execution_count": 5,
   "id": "4e4db762-0102-410f-8d65-cf0b12e0040b",
   "metadata": {},
   "outputs": [
    {
     "name": "stdout",
     "output_type": "stream",
     "text": [
      "Division result: 5.0\n",
      "Division operation completed.\n",
      "Error: Cannot divide by zero\n",
      "Division operation completed.\n"
     ]
    }
   ],
   "source": [
    "# 3rd-\n",
    "'''  In Python, you can use the try, except, else, and finally statements to handle exceptions. Here's an \n",
    "explanation of each statement with an example:\n",
    "\n",
    "try statement: This block of code is used to enclose the statements that may raise exceptions. If an exception \n",
    "occurs within the try block, it is caught and processed by the corresponding except block.\n",
    "\n",
    "except statement: This block of code is executed if an exception of the specified type occurs within the try block.\n",
    "You can define multiple except blocks to handle different types of exceptions. If an exception matches the \n",
    "specified type, the corresponding except block is executed.\n",
    "\n",
    "else statement: This block of code is executed if no exceptions occur in the try block. It is optional and provides\n",
    "a way to specify additional statements to be executed when no exceptions are raised.\n",
    "\n",
    "finally statement: This block of code is always executed, regardless of whether an exception occurred or not. It \n",
    "is typically used to perform cleanup operations or release resources. '''\n",
    "\n",
    "\n",
    "# Example: Handling an exception with try-except-else-finally\n",
    "\n",
    "def divide_numbers(num1, num2):\n",
    "    try:\n",
    "        result = num1 / num2\n",
    "    except ZeroDivisionError:\n",
    "        print(\"Error: Cannot divide by zero\")\n",
    "    else:\n",
    "        print(\"Division result:\", result)\n",
    "    finally:\n",
    "        print(\"Division operation completed.\")\n",
    "\n",
    "# Example usage\n",
    "divide_numbers(10, 2)  # Division result: 5.0\n",
    "divide_numbers(10, 0)  # Error: Cannot divide by zero"
   ]
  },
  {
   "cell_type": "code",
   "execution_count": 6,
   "id": "0e560c7f-6f3e-4452-9362-375af9931aa7",
   "metadata": {},
   "outputs": [
    {
     "name": "stdout",
     "output_type": "stream",
     "text": [
      "Result: 10\n",
      "Data processing completed.\n",
      "Error: Data must be an integer.\n",
      "Data processing completed.\n"
     ]
    }
   ],
   "source": [
    "# 4th-\n",
    "# Example: Using try-except-else-finally with raise\n",
    "\n",
    "def process_data(data):\n",
    "    try:\n",
    "        # Perform some data processing\n",
    "        if not isinstance(data, int):\n",
    "            raise TypeError(\"Data must be an integer.\")\n",
    "        result = data * 2\n",
    "    except TypeError as e:\n",
    "        print(\"Error:\", str(e))\n",
    "    else:\n",
    "        print(\"Result:\", result)\n",
    "    finally:\n",
    "        print(\"Data processing completed.\")\n",
    "\n",
    "# Example usage\n",
    "process_data(5)       # Result: 10\n",
    "process_data(\"hello\") # Error: Data must be an integer.\n"
   ]
  },
  {
   "cell_type": "code",
   "execution_count": 7,
   "id": "f597b34a-dbef-4714-bb5b-ec63fe62edb2",
   "metadata": {},
   "outputs": [
    {
     "name": "stdout",
     "output_type": "stream",
     "text": [
      "Error: Insufficient funds.\n"
     ]
    }
   ],
   "source": [
    "# 5th-\n",
    "'''  In Python, custom exceptions are user-defined exception classes that allow you to create and raise exceptions \n",
    "specific to your application or problem domain. By creating custom exceptions, you can provide more meaningful and \n",
    "descriptive error messages, handle specific error conditions, and organize your exception hierarchy according to \n",
    "your application's needs. '''\n",
    "\n",
    "# Example: Custom exception class\n",
    "\n",
    "class WithdrawalError(Exception):\n",
    "    def __init__(self, message):\n",
    "        self.message = message\n",
    "\n",
    "class BankAccount:\n",
    "    def __init__(self, balance):\n",
    "        self.balance = balance\n",
    "\n",
    "    def withdraw(self, amount):\n",
    "        if amount > self.balance:\n",
    "            raise WithdrawalError(\"Insufficient funds.\")\n",
    "        else:\n",
    "            self.balance -= amount\n",
    "            print(\"Withdrawal successful. Remaining balance:\", self.balance)\n",
    "\n",
    "# Example usage\n",
    "account = BankAccount(1000)\n",
    "try:\n",
    "    account.withdraw(1500)\n",
    "except WithdrawalError as e:\n",
    "    print(\"Error:\", str(e))"
   ]
  },
  {
   "cell_type": "code",
   "execution_count": null,
   "id": "42915bb6-8d16-438a-a769-b015f603a509",
   "metadata": {},
   "outputs": [],
   "source": []
  }
 ],
 "metadata": {
  "kernelspec": {
   "display_name": "Python 3 (ipykernel)",
   "language": "python",
   "name": "python3"
  },
  "language_info": {
   "codemirror_mode": {
    "name": "ipython",
    "version": 3
   },
   "file_extension": ".py",
   "mimetype": "text/x-python",
   "name": "python",
   "nbconvert_exporter": "python",
   "pygments_lexer": "ipython3",
   "version": "3.10.8"
  }
 },
 "nbformat": 4,
 "nbformat_minor": 5
}
