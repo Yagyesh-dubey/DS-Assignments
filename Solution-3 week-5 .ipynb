{
 "cells": [
  {
   "cell_type": "code",
   "execution_count": 1,
   "id": "efa45d92-4644-417d-b003-11a37c22e13d",
   "metadata": {},
   "outputs": [
    {
     "data": {
      "text/plain": [
       "\" Multithreading in Python refers to the ability of a program to execute multiple threads concurrently within a \\nsingle process. A thread is a separate flow of execution that can run concurrently with other threads, allowing for\\nparallelism in Python programs.\\n\\nMultithreading is used in Python to achieve concurrent execution of tasks, especially when there are tasks that \\ncan be executed independently and don't depend on each other's results. It can improve the performance of programs \\nby utilizing multiple CPU cores and handling I/O-bound operations more efficiently.\\n\\nThe module used to handle threads in Python is called threading. It provides a high-level interface and tools for \\ncreating and managing threads. The threading module allows you to create multiple threads, start them, synchronize \\ntheir execution, and communicate between them using various synchronization primitives like locks, semaphores, and \\ncondition variables.\""
      ]
     },
     "execution_count": 1,
     "metadata": {},
     "output_type": "execute_result"
    }
   ],
   "source": [
    "# 1st-\n",
    "''' Multithreading in Python refers to the ability of a program to execute multiple threads concurrently within a \n",
    "single process. A thread is a separate flow of execution that can run concurrently with other threads, allowing for\n",
    "parallelism in Python programs.\n",
    "\n",
    "Multithreading is used in Python to achieve concurrent execution of tasks, especially when there are tasks that \n",
    "can be executed independently and don't depend on each other's results. It can improve the performance of programs \n",
    "by utilizing multiple CPU cores and handling I/O-bound operations more efficiently.\n",
    "\n",
    "The module used to handle threads in Python is called threading. It provides a high-level interface and tools for \n",
    "creating and managing threads. The threading module allows you to create multiple threads, start them, synchronize \n",
    "their execution, and communicate between them using various synchronization primitives like locks, semaphores, and \n",
    "condition variables.'''"
   ]
  },
  {
   "cell_type": "code",
   "execution_count": 3,
   "id": "61cbeb70-ba01-4605-b596-326bf32106b2",
   "metadata": {},
   "outputs": [
    {
     "name": "stdout",
     "output_type": "stream",
     "text": [
      "8\n",
      "Current Thread: MainThread\n",
      "Thread: MainThread\n",
      "Thread: IOPub\n",
      "Thread: Heartbeat\n",
      "Thread: Thread-3 (_watch_pipe_fd)\n",
      "Thread: Thread-4 (_watch_pipe_fd)\n",
      "Thread: Control\n",
      "Thread: IPythonHistorySavingThread\n",
      "Thread: Thread-2\n"
     ]
    },
    {
     "name": "stderr",
     "output_type": "stream",
     "text": [
      "/tmp/ipykernel_1695/3398811187.py:16: DeprecationWarning: activeCount() is deprecated, use active_count() instead\n",
      "  print(threading.activeCount())\n",
      "/tmp/ipykernel_1695/3398811187.py:27: DeprecationWarning: currentThread() is deprecated, use current_thread() instead\n",
      "  current_thread = threading.currentThread()\n",
      "/tmp/ipykernel_1695/3398811187.py:28: DeprecationWarning: getName() is deprecated, get the name attribute instead\n",
      "  print(\"Current Thread:\", current_thread.getName())\n",
      "/tmp/ipykernel_1695/3398811187.py:41: DeprecationWarning: getName() is deprecated, get the name attribute instead\n",
      "  print(\"Thread:\", thread.getName())\n"
     ]
    }
   ],
   "source": [
    "# 2nd-\n",
    "''' The threading module in Python is used to handle threads and facilitate concurrent execution of tasks within a\n",
    "single process. It provides a higher-level interface compared to the lower-level thread module, making it easier to\n",
    "work with threads and perform synchronization.\n",
    "\n",
    "The following functions in the threading module are commonly used:\n",
    "\n",
    "\n",
    "activeCount(): This function returns the number of Thread objects currently alive. It provides the count of active \n",
    "threads, including the main thread. '''\n",
    "\n",
    "# Example:\n",
    "\n",
    "import threading\n",
    "\n",
    "print(threading.activeCount())\n",
    "\n",
    "\n",
    "\n",
    "''' currentThread(): This function returns the Thread object corresponding to the current thread. It can be used to \n",
    "obtain information about the currently executing thread, such as its name or identifier. '''\n",
    "\n",
    "# Example:\n",
    "\n",
    "import threading\n",
    "\n",
    "current_thread = threading.currentThread()\n",
    "print(\"Current Thread:\", current_thread.getName())\n",
    "\n",
    "\n",
    "\n",
    "''' enumerate(): This function returns a list of all active Thread objects. It can be used to obtain a list of all \n",
    "currently running threads, including the main thread. '''\n",
    "\n",
    "# Example:\n",
    "\n",
    "import threading\n",
    "\n",
    "threads = threading.enumerate()\n",
    "for thread in threads:\n",
    "    print(\"Thread:\", thread.getName())"
   ]
  },
  {
   "cell_type": "code",
   "execution_count": 4,
   "id": "8353b692-0cdc-4bba-856e-b33588ee43e3",
   "metadata": {},
   "outputs": [
    {
     "data": {
      "text/plain": [
       "\" \\nThe mentioned functions are commonly used in the Thread class of the threading module in Python. Here's an \\nexplanation of each function:\\n\\nrun(): This function is the entry point for the thread's activity or task. It defines the behavior that will be \\nexecuted when the thread is started. You can override this function in a subclass of Thread to define your custom \\ntask.\\n\\nstart(): This function is used to start the execution of the thread. It causes the run() method to be called in a \\nseparate thread of control. The thread begins its execution concurrently with other threads.\\n\\njoin(): This function is used to wait for the thread to complete its execution. It blocks the calling thread until\\nthe thread whose join() method is called terminates. This allows for synchronization between multiple threads.\\n\\nisAlive(): This function returns a boolean value indicating whether the thread is currently alive or running. It \\nreturns True if the thread is still executing, and False otherwise. \""
      ]
     },
     "execution_count": 4,
     "metadata": {},
     "output_type": "execute_result"
    }
   ],
   "source": [
    "# 3rd-\n",
    "''' \n",
    "The mentioned functions are commonly used in the Thread class of the threading module in Python. Here's an \n",
    "explanation of each function:\n",
    "\n",
    "run(): This function is the entry point for the thread's activity or task. It defines the behavior that will be \n",
    "executed when the thread is started. You can override this function in a subclass of Thread to define your custom \n",
    "task.\n",
    "\n",
    "start(): This function is used to start the execution of the thread. It causes the run() method to be called in a \n",
    "separate thread of control. The thread begins its execution concurrently with other threads.\n",
    "\n",
    "join(): This function is used to wait for the thread to complete its execution. It blocks the calling thread until\n",
    "the thread whose join() method is called terminates. This allows for synchronization between multiple threads.\n",
    "\n",
    "isAlive(): This function returns a boolean value indicating whether the thread is currently alive or running. It \n",
    "returns True if the thread is still executing, and False otherwise. '''"
   ]
  },
  {
   "cell_type": "code",
   "execution_count": 5,
   "id": "50ca0999-d643-4687-bafc-9a4a8f410cb1",
   "metadata": {},
   "outputs": [
    {
     "name": "stdout",
     "output_type": "stream",
     "text": [
      "List of squares: [1, 4, 9, 16, 25, 36, 49, 64, 81, 100]\n",
      "List of cubes: [1, 8, 27, 64, 125, 216, 343, 512, 729, 1000]\n",
      "All threads finished.\n"
     ]
    }
   ],
   "source": [
    "# 4th-\n",
    "import threading\n",
    "\n",
    "# Function to print list of squares\n",
    "def print_squares():\n",
    "    squares = [x ** 2 for x in range(1, 11)]\n",
    "    print(\"List of squares:\", squares)\n",
    "\n",
    "# Function to print list of cubes\n",
    "def print_cubes():\n",
    "    cubes = [x ** 3 for x in range(1, 11)]\n",
    "    print(\"List of cubes:\", cubes)\n",
    "\n",
    "# Create and start the first thread for squares\n",
    "thread1 = threading.Thread(target=print_squares)\n",
    "thread1.start()\n",
    "\n",
    "# Create and start the second thread for cubes\n",
    "thread2 = threading.Thread(target=print_cubes)\n",
    "thread2.start()\n",
    "\n",
    "# Wait for both threads to finish\n",
    "thread1.join()\n",
    "thread2.join()\n",
    "\n",
    "print(\"All threads finished.\")"
   ]
  },
  {
   "cell_type": "code",
   "execution_count": 6,
   "id": "78ffe386-5563-40cf-b071-27bc4d1ebf50",
   "metadata": {},
   "outputs": [
    {
     "data": {
      "text/plain": [
       "\" Multithreading in Python, like in any programming language, has its advantages and disadvantages. Let's explore them:\\n\\nAdvantages of Multithreading:\\n\\n1-Increased Responsiveness: Multithreading allows concurrent execution of tasks, which can improve the responsiveness\\nof an application. It enables multiple threads to work simultaneously, keeping the application interactive and \\nresponsive to user interactions.\\n\\n2-Utilization of Multiple CPU Cores: Multithreading allows for parallel execution of tasks across multiple CPU cores.\\nThis can lead to improved performance, especially for CPU-bound tasks that can benefit from utilizing multiple \\ncores simultaneously.\\n\\n3-Efficient Handling of I/O Operations: Multithreading is particularly useful for applications that involve I/O-bound \\noperations, such as reading from or writing to files, network communications, or interacting with databases. While\\none thread is waiting for I/O to complete, other threads can continue execution, utilizing the CPU effectively.\\n\\n4-Enhanced Resource Sharing: Threads within the same process share the same memory space, which allows them to easily\\nshare data and communicate with each other. This enables efficient resource sharing and coordination among threads.\\n\\nDisadvantages of Multithreading:\\n\\n1-Increased Complexity: Multithreading introduces additional complexity to the code. Dealing with shared resources, \\nsynchronization, and avoiding race conditions requires careful design and implementation. Debugging and troubleshoot\\ning multithreaded code can also be more challenging.\\n\\n2-Potential for Deadlocks and Race Conditions: Improper synchronization among threads can lead to deadlocks, where \\nthreads get stuck waiting for each other indefinitely, and race conditions, where the outcome of the program \\ndepends on the relative timing of thread execution. These concurrency issues can be difficult to identify and \\nresolve.\\n\\n3-Increased Memory Overhead: Each thread requires its own stack space, which adds to the memory overhead. If too \\nmany threads are created, it can consume a significant amount of memory, potentially affecting the performance of \\nthe application.\\n\\n4-Global Interpreter Lock (GIL) Limitations: In CPython, the reference implementation of Python, there is a Global \\nInterpreter Lock (GIL) that allows only one thread to execute Python bytecode at a time. This GIL limitation \\nrestricts the parallel execution of multiple threads for CPU-bound tasks. However, multithreading can still be \\nbeneficial for I/O-bound tasks and when using external libraries that release the GIL.\""
      ]
     },
     "execution_count": 6,
     "metadata": {},
     "output_type": "execute_result"
    }
   ],
   "source": [
    "# 5th-\n",
    "''' Multithreading in Python, like in any programming language, has its advantages and disadvantages. Let's explore them:\n",
    "\n",
    "Advantages of Multithreading:\n",
    "\n",
    "1-Increased Responsiveness: Multithreading allows concurrent execution of tasks, which can improve the responsiveness\n",
    "of an application. It enables multiple threads to work simultaneously, keeping the application interactive and \n",
    "responsive to user interactions.\n",
    "\n",
    "2-Utilization of Multiple CPU Cores: Multithreading allows for parallel execution of tasks across multiple CPU cores.\n",
    "This can lead to improved performance, especially for CPU-bound tasks that can benefit from utilizing multiple \n",
    "cores simultaneously.\n",
    "\n",
    "3-Efficient Handling of I/O Operations: Multithreading is particularly useful for applications that involve I/O-bound \n",
    "operations, such as reading from or writing to files, network communications, or interacting with databases. While\n",
    "one thread is waiting for I/O to complete, other threads can continue execution, utilizing the CPU effectively.\n",
    "\n",
    "4-Enhanced Resource Sharing: Threads within the same process share the same memory space, which allows them to easily\n",
    "share data and communicate with each other. This enables efficient resource sharing and coordination among threads.\n",
    "\n",
    "Disadvantages of Multithreading:\n",
    "\n",
    "1-Increased Complexity: Multithreading introduces additional complexity to the code. Dealing with shared resources, \n",
    "synchronization, and avoiding race conditions requires careful design and implementation. Debugging and troubleshoot\n",
    "ing multithreaded code can also be more challenging.\n",
    "\n",
    "2-Potential for Deadlocks and Race Conditions: Improper synchronization among threads can lead to deadlocks, where \n",
    "threads get stuck waiting for each other indefinitely, and race conditions, where the outcome of the program \n",
    "depends on the relative timing of thread execution. These concurrency issues can be difficult to identify and \n",
    "resolve.\n",
    "\n",
    "3-Increased Memory Overhead: Each thread requires its own stack space, which adds to the memory overhead. If too \n",
    "many threads are created, it can consume a significant amount of memory, potentially affecting the performance of \n",
    "the application.\n",
    "\n",
    "4-Global Interpreter Lock (GIL) Limitations: In CPython, the reference implementation of Python, there is a Global \n",
    "Interpreter Lock (GIL) that allows only one thread to execute Python bytecode at a time. This GIL limitation \n",
    "restricts the parallel execution of multiple threads for CPU-bound tasks. However, multithreading can still be \n",
    "beneficial for I/O-bound tasks and when using external libraries that release the GIL.'''"
   ]
  },
  {
   "cell_type": "code",
   "execution_count": 7,
   "id": "2c86966e-9b4c-49fa-b664-59aa77ec479e",
   "metadata": {},
   "outputs": [
    {
     "data": {
      "text/plain": [
       "' Deadlocks:\\nDeadlock is a situation where two or more threads or processes are blocked indefinitely, waiting for each other to\\nrelease resources that they hold. In a deadlock, none of the involved threads can proceed, resulting in a system or\\napplication freeze. Deadlocks typically occur due to a circular dependency of resources.\\n\\n\\nRace Conditions:\\nA race condition occurs when two or more threads access shared data or resources concurrently, and the final \\noutcome of the program depends on the relative timing of their execution. In other words, the behavior and result \\nof the program become unpredictable and non-deterministic'"
      ]
     },
     "execution_count": 7,
     "metadata": {},
     "output_type": "execute_result"
    }
   ],
   "source": [
    "# 6th-\n",
    "''' Deadlocks:\n",
    "Deadlock is a situation where two or more threads or processes are blocked indefinitely, waiting for each other to\n",
    "release resources that they hold. In a deadlock, none of the involved threads can proceed, resulting in a system or\n",
    "application freeze. Deadlocks typically occur due to a circular dependency of resources.\n",
    "\n",
    "\n",
    "Race Conditions:\n",
    "A race condition occurs when two or more threads access shared data or resources concurrently, and the final \n",
    "outcome of the program depends on the relative timing of their execution. In other words, the behavior and result \n",
    "of the program become unpredictable and non-deterministic'''"
   ]
  },
  {
   "cell_type": "code",
   "execution_count": null,
   "id": "df6e7065-1f7c-4e30-86cc-315283e5f92c",
   "metadata": {},
   "outputs": [],
   "source": []
  }
 ],
 "metadata": {
  "kernelspec": {
   "display_name": "Python 3 (ipykernel)",
   "language": "python",
   "name": "python3"
  },
  "language_info": {
   "codemirror_mode": {
    "name": "ipython",
    "version": 3
   },
   "file_extension": ".py",
   "mimetype": "text/x-python",
   "name": "python",
   "nbconvert_exporter": "python",
   "pygments_lexer": "ipython3",
   "version": "3.10.8"
  }
 },
 "nbformat": 4,
 "nbformat_minor": 5
}
