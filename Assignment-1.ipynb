{
 "cells": [
  {
   "cell_type": "code",
   "execution_count": 7,
   "id": "4dc23933-b689-46fc-af1f-9030c052e25f",
   "metadata": {},
   "outputs": [],
   "source": [
    "# 1st-\n",
    "Str='Hello world'\n",
    "List=[1,2,3,'pw',(3+4j),3.45,True]\n",
    "Float=23.4\n",
    "mytuple = (\"apple\", \"banana\", \"cherry\")"
   ]
  },
  {
   "cell_type": "code",
   "execution_count": 10,
   "id": "cdae722d-63c0-44e2-8961-aa68316e8792",
   "metadata": {},
   "outputs": [
    {
     "name": "stdout",
     "output_type": "stream",
     "text": [
      "<class 'str'>\n",
      "<class 'str'>\n",
      "<class 'list'>\n",
      "<class 'int'>\n"
     ]
    }
   ],
   "source": [
    "# 2nd-\n",
    "var1 = ' '\n",
    "var2 = '[ DS , ML , Python]'\n",
    "var3 = [ 'DS' , 'ML' , 'Python']\n",
    "var4 = 1\n",
    "print(type(var1))\n",
    "print(type(var2))\n",
    "print(type(var3))\n",
    "print(type(var4))"
   ]
  },
  {
   "cell_type": "code",
   "execution_count": 12,
   "id": "cc0fda34-1ff2-4076-8374-35606d744bd1",
   "metadata": {},
   "outputs": [
    {
     "name": "stdout",
     "output_type": "stream",
     "text": [
      "2.5\n",
      "1\n",
      "2\n",
      "25\n"
     ]
    }
   ],
   "source": [
    "# 3rd-\n",
    "print(5/2) # '/' -->This is used for division and it returns floating point value value \n",
    "\n",
    "print(5%2) # '%' -->It calculates the remainder of the division between two numbers. \n",
    "\n",
    "print(5//2) # '//' -->It is used for floor division of an integer \n",
    "\n",
    "print(5**2) # '**' -->It is used to calculate power of any number \n"
   ]
  },
  {
   "cell_type": "code",
   "execution_count": 15,
   "id": "ea1bfda5-8bcc-4224-a63e-f386aa4ffcb0",
   "metadata": {},
   "outputs": [
    {
     "name": "stdout",
     "output_type": "stream",
     "text": [
      "1   <class 'int'>\n",
      "2   <class 'int'>\n",
      "3.5   <class 'float'>\n",
      "yagyesh   <class 'str'>\n",
      "(2+4j)   <class 'complex'>\n",
      "True   <class 'bool'>\n"
     ]
    }
   ],
   "source": [
    "# 4th-\n",
    "list=[1,2,3.5,'yagyesh',(2+4j),True]\n",
    "\n",
    "for i in list :\n",
    "    print(i,\" \",type(i))"
   ]
  },
  {
   "cell_type": "code",
   "execution_count": 1,
   "id": "bc9c12a0-458e-4e94-b65f-f4099217ce07",
   "metadata": {},
   "outputs": [
    {
     "name": "stdout",
     "output_type": "stream",
     "text": [
      "A is divisible by B\n",
      "Number of divisions: 8\n"
     ]
    }
   ],
   "source": [
    "# 5th-\n",
    "A = 24  # The number to be divided\n",
    "B = 3   # The divisor\n",
    "\n",
    "count = 0  # Counter to keep track of the number of divisions\n",
    "\n",
    "while A!= 0:\n",
    "    A = A - B\n",
    "    count =count+ 1\n",
    "\n",
    "print(\"A is divisible by B\")\n",
    "print(\"Number of divisions:\", count)"
   ]
  },
  {
   "cell_type": "code",
   "execution_count": 2,
   "id": "277d9762-2967-4a9e-be0a-212cdaea7e2c",
   "metadata": {},
   "outputs": [
    {
     "name": "stdout",
     "output_type": "stream",
     "text": [
      "1 is not divisible by 3\n",
      "2 is not divisible by 3\n",
      "3 is divisible by 3\n",
      "4 is not divisible by 3\n",
      "5 is not divisible by 3\n",
      "6 is divisible by 3\n",
      "7 is not divisible by 3\n",
      "8 is not divisible by 3\n",
      "9 is divisible by 3\n",
      "10 is not divisible by 3\n",
      "11 is not divisible by 3\n",
      "12 is divisible by 3\n",
      "13 is not divisible by 3\n",
      "14 is not divisible by 3\n",
      "15 is divisible by 3\n",
      "16 is not divisible by 3\n",
      "17 is not divisible by 3\n",
      "18 is divisible by 3\n",
      "19 is not divisible by 3\n",
      "20 is not divisible by 3\n",
      "21 is divisible by 3\n",
      "22 is not divisible by 3\n",
      "23 is not divisible by 3\n",
      "24 is divisible by 3\n",
      "25 is not divisible by 3\n"
     ]
    }
   ],
   "source": [
    "# 6th-\n",
    "list=[1,2,3,4,5,6,7,8,9,10,11,12,13,14,15,16,17,18,19,20,21,22,23,24,25]\n",
    "for i in list:\n",
    "    if i%3==0:\n",
    "        print(i,\"is divisible by 3\")\n",
    "    else:\n",
    "        print(i,\"is not divisible by 3\")\n"
   ]
  },
  {
   "cell_type": "code",
   "execution_count": 3,
   "id": "b126f84a-ab02-411a-8686-303b5e8c9610",
   "metadata": {},
   "outputs": [
    {
     "ename": "NameError",
     "evalue": "name 'h' is not defined",
     "output_type": "error",
     "traceback": [
      "\u001b[0;31m---------------------------------------------------------------------------\u001b[0m",
      "\u001b[0;31mNameError\u001b[0m                                 Traceback (most recent call last)",
      "Cell \u001b[0;32mIn[3], line 7\u001b[0m\n\u001b[1;32m      1\u001b[0m \u001b[38;5;66;03m# 7th-\u001b[39;00m\n\u001b[1;32m      2\u001b[0m \n\u001b[1;32m      3\u001b[0m \u001b[38;5;66;03m# Immutable data types: Immutable objects cannot be modified once they are created. If you attempt to modify\u001b[39;00m\n\u001b[1;32m      4\u001b[0m \u001b[38;5;66;03m# an immutable object, a new object is created with the updated value\u001b[39;00m\n\u001b[1;32m      6\u001b[0m \u001b[38;5;28mstr\u001b[39m\u001b[38;5;241m=\u001b[39m\u001b[38;5;124m'\u001b[39m\u001b[38;5;124myagyesh\u001b[39m\u001b[38;5;124m'\u001b[39m\n\u001b[0;32m----> 7\u001b[0m \u001b[38;5;28mstr\u001b[39m[\u001b[38;5;241m0\u001b[39m]\u001b[38;5;241m=\u001b[39m\u001b[43mh\u001b[49m  \u001b[38;5;66;03m# Not allowed \u001b[39;00m\n\u001b[1;32m      8\u001b[0m \u001b[38;5;28mprint\u001b[39m(\u001b[38;5;28mstr\u001b[39m) \u001b[38;5;66;03m#-->print the string\u001b[39;00m\n\u001b[1;32m     10\u001b[0m \u001b[38;5;66;03m#Mutable data types: Mutable objects can be modified after they are created. The changes directly affect the existing object \u001b[39;00m\n",
      "\u001b[0;31mNameError\u001b[0m: name 'h' is not defined"
     ]
    }
   ],
   "source": [
    "# 7th-\n",
    "\n",
    "# Immutable data types: Immutable objects cannot be modified once they are created. If you attempt to modify\n",
    "# an immutable object, a new object is created with the updated value\n",
    "\n",
    "str='yagyesh'\n",
    "str[0]=h  # Not allowed \n",
    "print(str) #-->print the string\n",
    "\n",
    "#Mutable data types: Mutable objects can be modified after they are created. The changes directly affect the existing object \n",
    "\n",
    "l1=[1,2,3,4]\n",
    "l1[2]=33\n",
    "print(l1) #-->Print the list"
   ]
  },
  {
   "cell_type": "code",
   "execution_count": null,
   "id": "905c3076-b802-45be-bc9f-22cf1cf74417",
   "metadata": {},
   "outputs": [],
   "source": []
  }
 ],
 "metadata": {
  "kernelspec": {
   "display_name": "Python 3 (ipykernel)",
   "language": "python",
   "name": "python3"
  },
  "language_info": {
   "codemirror_mode": {
    "name": "ipython",
    "version": 3
   },
   "file_extension": ".py",
   "mimetype": "text/x-python",
   "name": "python",
   "nbconvert_exporter": "python",
   "pygments_lexer": "ipython3",
   "version": "3.10.8"
  }
 },
 "nbformat": 4,
 "nbformat_minor": 5
}
