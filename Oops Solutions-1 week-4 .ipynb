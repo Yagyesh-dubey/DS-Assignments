{
 "cells": [
  {
   "cell_type": "code",
   "execution_count": 1,
   "id": "05d67f3c-c705-4177-a616-8aa4de4f0ea1",
   "metadata": {},
   "outputs": [],
   "source": [
    "# 1st-\n",
    "# In object-oriented programming (OOP), a class is a blueprint or template that defines the structure and behavior\n",
    "# of objects. It serves as a blueprint for creating objects, which are instances of a class. A class encapsulates \n",
    "# data (attributes) and operations (methods) that can be performed on that data.\n",
    "\n",
    "\n",
    "# An object, on the other hand, is an instance of a class. It is a tangible entity that exists in memory and \n",
    "# can be manipulated using the methods defined in the class. Each object created from a class has its own set of \n",
    "# data and can independently perform actions.\n",
    "\n",
    "\n",
    "class Car:\n",
    "    def __init__(self, brand, model, year):\n",
    "        self.brand = brand\n",
    "        self.model = model\n",
    "        self.year = year\n",
    "        self.is_engine_on = False\n",
    "\n",
    "    def start_engine(self):\n",
    "        self.is_engine_on = True\n",
    "        print(\"Engine started.\")\n",
    "\n",
    "    def stop_engine(self):\n",
    "        self.is_engine_on = False\n",
    "        print(\"Engine stopped.\")\n",
    "\n",
    "    def drive(self, distance):\n",
    "        if self.is_engine_on:\n",
    "            print(f\"The {self.brand} {self.model} is driving {distance} miles.\")\n",
    "        else:\n",
    "            print(\"Cannot drive. Engine is off.\")\n",
    "\n"
   ]
  },
  {
   "cell_type": "code",
   "execution_count": 2,
   "id": "d96de7c1-ec2a-41cb-adff-1f682c8271ef",
   "metadata": {},
   "outputs": [
    {
     "name": "stdout",
     "output_type": "stream",
     "text": [
      "Engine started.\n",
      "The Toyota Camry is driving 10 miles.\n",
      "Engine stopped.\n"
     ]
    }
   ],
   "source": [
    "my_car = Car(\"Toyota\", \"Camry\", 2022)\n",
    "my_car.start_engine()\n",
    "my_car.drive(10)\n",
    "my_car.stop_engine()"
   ]
  },
  {
   "cell_type": "code",
   "execution_count": 3,
   "id": "c6f0f01d-a329-4d8c-940d-0b7614373dcb",
   "metadata": {},
   "outputs": [
    {
     "data": {
      "text/plain": [
       "'Encapsulation: Encapsulation is the process of bundling data (attributes) and methods (functions) together into \\na single unit called a class. It allows the data to be hidden and accessed only through the defined methods, \\nensuring data integrity and providing abstraction.\\n\\nInheritance: Inheritance allows the creation of new classes (derived classes) based on existing classes (base or\\nparent classes). The derived classes inherit the attributes and methods of the base class, enabling code reuse and\\nthe creation of a hierarchical class structure. Inheritance supports the concept of \"is-a\" relationship, where \\na derived class is a specialized version of the base class.\\n\\nPolymorphism: Polymorphism allows objects of different classes to be treated as objects of a common base class. \\nIt provides the ability to use a single interface to represent different types of objects. Polymorphism is \\nachieved through method overriding (providing a different implementation of a method in the derived class) and\\nmethod overloading (defining multiple methods with the same name but different parameters).\\n\\nAbstraction: Abstraction involves representing essential features of an object while hiding unnecessary details.\\nIt focuses on defining the behavior and characteristics of objects without specifying the implementation. \\nAbstraction allows the creation of abstract classes and interfaces, which provide a blueprint for derived classes\\nto implement the necessary functionality. '"
      ]
     },
     "execution_count": 3,
     "metadata": {},
     "output_type": "execute_result"
    }
   ],
   "source": [
    "# 2nd-\n",
    "\n",
    "\"\"\"Encapsulation: Encapsulation is the process of bundling data (attributes) and methods (functions) together into \n",
    "a single unit called a class. It allows the data to be hidden and accessed only through the defined methods, \n",
    "ensuring data integrity and providing abstraction.\n",
    "\n",
    "Inheritance: Inheritance allows the creation of new classes (derived classes) based on existing classes (base or\n",
    "parent classes). The derived classes inherit the attributes and methods of the base class, enabling code reuse and\n",
    "the creation of a hierarchical class structure. Inheritance supports the concept of \"is-a\" relationship, where \n",
    "a derived class is a specialized version of the base class.\n",
    "\n",
    "Polymorphism: Polymorphism allows objects of different classes to be treated as objects of a common base class. \n",
    "It provides the ability to use a single interface to represent different types of objects. Polymorphism is \n",
    "achieved through method overriding (providing a different implementation of a method in the derived class) and\n",
    "method overloading (defining multiple methods with the same name but different parameters).\n",
    "\n",
    "Abstraction: Abstraction involves representing essential features of an object while hiding unnecessary details.\n",
    "It focuses on defining the behavior and characteristics of objects without specifying the implementation. \n",
    "Abstraction allows the creation of abstract classes and interfaces, which provide a blueprint for derived classes\n",
    "to implement the necessary functionality. \"\"\""
   ]
  },
  {
   "cell_type": "code",
   "execution_count": 4,
   "id": "fe298b64-4981-4516-aad6-3c20fa997648",
   "metadata": {},
   "outputs": [
    {
     "name": "stdout",
     "output_type": "stream",
     "text": [
      "Name: John, Age: 25\n"
     ]
    }
   ],
   "source": [
    "# 3rd-\n",
    "# The __init__() function is a special method in Python classes that is used for initializing objects. It is \n",
    "# automatically called when an object is created from a class. The primary purpose of the __init__() function is \n",
    "# to set up the initial state (attributes) of the object.\n",
    "\n",
    "class Person:\n",
    "    def __init__(self, name, age):\n",
    "        self.name = name\n",
    "        self.age = age\n",
    "\n",
    "    def display_info(self):\n",
    "        print(f\"Name: {self.name}, Age: {self.age}\")\n",
    "\n",
    "\n",
    "# Create an object of the Person class\n",
    "person1 = Person(\"John\", 25)\n",
    "\n",
    "# Call the display_info() method\n",
    "person1.display_info()"
   ]
  },
  {
   "cell_type": "code",
   "execution_count": 6,
   "id": "66399c0a-6b89-44e8-b0e3-c18ae2804f4b",
   "metadata": {},
   "outputs": [
    {
     "data": {
      "text/plain": [
       "\"In object-oriented programming (OOP), self is a conventionally used parameter name that refers to the instance \\nof a class. It is used to represent the object that the method is being called on. The purpose of self is to \\nallow access to the object's attributes and methods within the class.\\n\\nWhen a method is defined within a class, the first parameter is typically named self. It is important to include\\nself as the first parameter in most class methods, as it provides a reference to the object itself. This allows \\nthe method to access and manipulate the object's attributes and call other methods of the object.\\n\\nBy convention, self is not a reserved keyword in Python, but it is widely used and understood in the context of \\nOOP. It is a common practice to use self as the first parameter name in class methods, although any valid \\nvariable name can be used. \""
      ]
     },
     "execution_count": 6,
     "metadata": {},
     "output_type": "execute_result"
    }
   ],
   "source": [
    "# 4th-\n",
    "\n",
    "'''In object-oriented programming (OOP), self is a conventionally used parameter name that refers to the instance \n",
    "of a class. It is used to represent the object that the method is being called on. The purpose of self is to \n",
    "allow access to the object's attributes and methods within the class.\n",
    "\n",
    "When a method is defined within a class, the first parameter is typically named self. It is important to include\n",
    "self as the first parameter in most class methods, as it provides a reference to the object itself. This allows \n",
    "the method to access and manipulate the object's attributes and call other methods of the object.\n",
    "\n",
    "By convention, self is not a reserved keyword in Python, but it is widely used and understood in the context of \n",
    "OOP. It is a common practice to use self as the first parameter name in class methods, although any valid \n",
    "variable name can be used. '''"
   ]
  },
  {
   "cell_type": "code",
   "execution_count": 7,
   "id": "a6770ea5-01a6-442c-bd61-cb1f73314c62",
   "metadata": {},
   "outputs": [
    {
     "data": {
      "text/plain": [
       "' Inheritance is a fundamental concept in object-oriented programming (OOP) that allows the creation of new \\nclasses (derived or child classes) based on existing classes (base or parent classes). The derived classes \\ninherit the attributes and methods of the base class, promoting code reuse and extending the functionality of \\nthe base class.\\n\\nInheritance establishes an \"is-a\" relationship between classes, where the derived class is a specialized version\\nof the base class. The derived class inherits the properties and behaviors of the base class and can add its own\\nunique attributes and methods or override the inherited ones. '"
      ]
     },
     "execution_count": 7,
     "metadata": {},
     "output_type": "execute_result"
    }
   ],
   "source": [
    "# 5th-\n",
    "''' Inheritance is a fundamental concept in object-oriented programming (OOP) that allows the creation of new \n",
    "classes (derived or child classes) based on existing classes (base or parent classes). The derived classes \n",
    "inherit the attributes and methods of the base class, promoting code reuse and extending the functionality of \n",
    "the base class.\n",
    "\n",
    "Inheritance establishes an \"is-a\" relationship between classes, where the derived class is a specialized version\n",
    "of the base class. The derived class inherits the properties and behaviors of the base class and can add its own\n",
    "unique attributes and methods or override the inherited ones. '''"
   ]
  },
  {
   "cell_type": "code",
   "execution_count": 8,
   "id": "400f164f-1ee4-490c-b98e-12bbccbe7b0e",
   "metadata": {},
   "outputs": [
    {
     "name": "stdout",
     "output_type": "stream",
     "text": [
      "Brand: Toyota\n",
      "Model: Camry\n"
     ]
    }
   ],
   "source": [
    "# Single Inheritance: In single inheritance, a subclass inherits from a single superclass. It means that a child \n",
    "# class has only one parent class. For example: \n",
    "\n",
    "class Vehicle:\n",
    "    def __init__(self, brand):\n",
    "        self.brand = brand\n",
    "\n",
    "    def display_info(self):\n",
    "        print(\"Brand:\", self.brand)\n",
    "\n",
    "\n",
    "class Car(Vehicle):\n",
    "    def __init__(self, brand, model):\n",
    "        super().__init__(brand)\n",
    "        self.model = model\n",
    "\n",
    "    def display_info(self):\n",
    "        super().display_info()\n",
    "        print(\"Model:\", self.model)\n",
    "\n",
    "\n",
    "car = Car(\"Toyota\", \"Camry\")\n",
    "car.display_info()"
   ]
  },
  {
   "cell_type": "code",
   "execution_count": 9,
   "id": "c1f031e1-674c-4d5f-81bb-3cd21448661c",
   "metadata": {},
   "outputs": [
    {
     "name": "stdout",
     "output_type": "stream",
     "text": [
      "Woof!\n"
     ]
    }
   ],
   "source": [
    "# Multiple Inheritance: Multiple inheritance allows a subclass to inherit from multiple superclasses. It means \n",
    "# that a child class can have more than one parent class. For example:\n",
    "\n",
    "class Animal:\n",
    "    def __init__(self, name):\n",
    "        self.name = name\n",
    "\n",
    "    def speak(self):\n",
    "        pass\n",
    "\n",
    "\n",
    "class Mammal:\n",
    "    def feed_milk(self):\n",
    "        pass\n",
    "\n",
    "\n",
    "class Dog(Animal, Mammal):\n",
    "    def __init__(self, name, breed):\n",
    "        super().__init__(name)\n",
    "        self.breed = breed\n",
    "\n",
    "    def speak(self):\n",
    "        print(\"Woof!\")\n",
    "\n",
    "\n",
    "dog = Dog(\"Max\", \"Labrador\")\n",
    "dog.speak()\n",
    "dog.feed_milk()"
   ]
  },
  {
   "cell_type": "code",
   "execution_count": null,
   "id": "23cdee95-decd-48a4-b90d-4caab8418d48",
   "metadata": {},
   "outputs": [],
   "source": [
    "# Multilevel Inheritance: Multilevel inheritance involves a chain of inheritance where a subclass inherits from\n",
    "# another subclass. It means that a child class can be derived from a parent class, and this child class can, in \n",
    "# turn, become a parent class for another child class. For example:\n",
    "\n"
   ]
  }
 ],
 "metadata": {
  "kernelspec": {
   "display_name": "Python 3 (ipykernel)",
   "language": "python",
   "name": "python3"
  },
  "language_info": {
   "codemirror_mode": {
    "name": "ipython",
    "version": 3
   },
   "file_extension": ".py",
   "mimetype": "text/x-python",
   "name": "python",
   "nbconvert_exporter": "python",
   "pygments_lexer": "ipython3",
   "version": "3.10.8"
  }
 },
 "nbformat": 4,
 "nbformat_minor": 5
}
